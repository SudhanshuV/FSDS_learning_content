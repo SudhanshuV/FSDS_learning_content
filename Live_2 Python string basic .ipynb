{
 "cells": [
  {
   "cell_type": "code",
   "execution_count": 1,
   "id": "38eb4d41",
   "metadata": {},
   "outputs": [],
   "source": [
    "s = \"ineuron\""
   ]
  },
  {
   "cell_type": "code",
   "execution_count": 2,
   "id": "5e02c3e3",
   "metadata": {},
   "outputs": [
    {
     "data": {
      "text/plain": [
       "str"
      ]
     },
     "execution_count": 2,
     "metadata": {},
     "output_type": "execute_result"
    }
   ],
   "source": [
    "type(s)"
   ]
  },
  {
   "cell_type": "code",
   "execution_count": 3,
   "id": "6b963500",
   "metadata": {},
   "outputs": [
    {
     "data": {
      "text/plain": [
       "'i'"
      ]
     },
     "execution_count": 3,
     "metadata": {},
     "output_type": "execute_result"
    }
   ],
   "source": [
    "s[0]"
   ]
  },
  {
   "cell_type": "code",
   "execution_count": 4,
   "id": "2e9a1d1f",
   "metadata": {},
   "outputs": [
    {
     "data": {
      "text/plain": [
       "'o'"
      ]
     },
     "execution_count": 4,
     "metadata": {},
     "output_type": "execute_result"
    }
   ],
   "source": [
    "s[5]"
   ]
  },
  {
   "cell_type": "code",
   "execution_count": 5,
   "id": "74dcc648",
   "metadata": {},
   "outputs": [
    {
     "data": {
      "text/plain": [
       "'n'"
      ]
     },
     "execution_count": 5,
     "metadata": {},
     "output_type": "execute_result"
    }
   ],
   "source": [
    "s[-1]"
   ]
  },
  {
   "cell_type": "code",
   "execution_count": 6,
   "id": "4da1d257",
   "metadata": {},
   "outputs": [],
   "source": [
    "s1 = 'sudh'"
   ]
  },
  {
   "cell_type": "code",
   "execution_count": 7,
   "id": "2c7e2f80",
   "metadata": {},
   "outputs": [
    {
     "data": {
      "text/plain": [
       "'s'"
      ]
     },
     "execution_count": 7,
     "metadata": {},
     "output_type": "execute_result"
    }
   ],
   "source": [
    "s1[0]"
   ]
  },
  {
   "cell_type": "code",
   "execution_count": 8,
   "id": "efb7f6c0",
   "metadata": {},
   "outputs": [
    {
     "data": {
      "text/plain": [
       "'h'"
      ]
     },
     "execution_count": 8,
     "metadata": {},
     "output_type": "execute_result"
    }
   ],
   "source": [
    "s1[-1]"
   ]
  },
  {
   "cell_type": "code",
   "execution_count": 9,
   "id": "246074da",
   "metadata": {},
   "outputs": [
    {
     "data": {
      "text/plain": [
       "'d'"
      ]
     },
     "execution_count": 9,
     "metadata": {},
     "output_type": "execute_result"
    }
   ],
   "source": [
    "s1[-2]"
   ]
  },
  {
   "cell_type": "code",
   "execution_count": 12,
   "id": "1e302549",
   "metadata": {},
   "outputs": [],
   "source": [
    "s2 = \"this is my very first programming class's\""
   ]
  },
  {
   "cell_type": "code",
   "execution_count": 13,
   "id": "73e266ed",
   "metadata": {},
   "outputs": [
    {
     "data": {
      "text/plain": [
       "\"this is my very first programming class's\""
      ]
     },
     "execution_count": 13,
     "metadata": {},
     "output_type": "execute_result"
    }
   ],
   "source": [
    "s2"
   ]
  },
  {
   "cell_type": "code",
   "execution_count": 14,
   "id": "118b592e",
   "metadata": {},
   "outputs": [
    {
     "data": {
      "text/plain": [
       "'m'"
      ]
     },
     "execution_count": 14,
     "metadata": {},
     "output_type": "execute_result"
    }
   ],
   "source": [
    "s2[8]"
   ]
  },
  {
   "cell_type": "code",
   "execution_count": 15,
   "id": "8a39c178",
   "metadata": {},
   "outputs": [
    {
     "data": {
      "text/plain": [
       "\"this is my very first programming class's\""
      ]
     },
     "execution_count": 15,
     "metadata": {},
     "output_type": "execute_result"
    }
   ],
   "source": [
    "s2"
   ]
  },
  {
   "cell_type": "code",
   "execution_count": 16,
   "id": "1db9f2f9",
   "metadata": {},
   "outputs": [
    {
     "data": {
      "text/plain": [
       "'his '"
      ]
     },
     "execution_count": 16,
     "metadata": {},
     "output_type": "execute_result"
    }
   ],
   "source": [
    "s2[1:5]"
   ]
  },
  {
   "cell_type": "code",
   "execution_count": 17,
   "id": "f0e89b9d",
   "metadata": {},
   "outputs": [
    {
     "data": {
      "text/plain": [
       "'s my very first programm'"
      ]
     },
     "execution_count": 17,
     "metadata": {},
     "output_type": "execute_result"
    }
   ],
   "source": [
    "s2[6:30]"
   ]
  },
  {
   "cell_type": "code",
   "execution_count": 18,
   "id": "1d35d281",
   "metadata": {},
   "outputs": [
    {
     "data": {
      "text/plain": [
       "'sm eyfrtporm'"
      ]
     },
     "execution_count": 18,
     "metadata": {},
     "output_type": "execute_result"
    }
   ],
   "source": [
    "s2[6:30:2]"
   ]
  },
  {
   "cell_type": "code",
   "execution_count": 19,
   "id": "017a48f1",
   "metadata": {},
   "outputs": [],
   "source": [
    "s= \"sudhanshu\""
   ]
  },
  {
   "cell_type": "code",
   "execution_count": 21,
   "id": "7b92f73f",
   "metadata": {},
   "outputs": [
    {
     "data": {
      "text/plain": [
       "'sudhanshu'"
      ]
     },
     "execution_count": 21,
     "metadata": {},
     "output_type": "execute_result"
    }
   ],
   "source": [
    "s[0:9:1]"
   ]
  },
  {
   "cell_type": "code",
   "execution_count": 22,
   "id": "b6fd616b",
   "metadata": {},
   "outputs": [
    {
     "data": {
      "text/plain": [
       "'sudhanshu'"
      ]
     },
     "execution_count": 22,
     "metadata": {},
     "output_type": "execute_result"
    }
   ],
   "source": [
    "s"
   ]
  },
  {
   "cell_type": "code",
   "execution_count": 23,
   "id": "f28ed68e",
   "metadata": {},
   "outputs": [
    {
     "data": {
      "text/plain": [
       "''"
      ]
     },
     "execution_count": 23,
     "metadata": {},
     "output_type": "execute_result"
    }
   ],
   "source": [
    "s[0:8:-1]"
   ]
  },
  {
   "cell_type": "code",
   "execution_count": 24,
   "id": "9d47cede",
   "metadata": {},
   "outputs": [
    {
     "data": {
      "text/plain": [
       "'uhsnahdu'"
      ]
     },
     "execution_count": 24,
     "metadata": {},
     "output_type": "execute_result"
    }
   ],
   "source": [
    "s[8:0:-1]"
   ]
  },
  {
   "cell_type": "code",
   "execution_count": 25,
   "id": "933bd2d6",
   "metadata": {},
   "outputs": [
    {
     "data": {
      "text/plain": [
       "'usad'"
      ]
     },
     "execution_count": 25,
     "metadata": {},
     "output_type": "execute_result"
    }
   ],
   "source": [
    "s[8:0:-2]"
   ]
  },
  {
   "cell_type": "code",
   "execution_count": 26,
   "id": "46fb9bf8",
   "metadata": {},
   "outputs": [
    {
     "data": {
      "text/plain": [
       "'sudhanshu'"
      ]
     },
     "execution_count": 26,
     "metadata": {},
     "output_type": "execute_result"
    }
   ],
   "source": [
    "s"
   ]
  },
  {
   "cell_type": "code",
   "execution_count": 27,
   "id": "e0424612",
   "metadata": {},
   "outputs": [
    {
     "data": {
      "text/plain": [
       "'sudhan'"
      ]
     },
     "execution_count": 27,
     "metadata": {},
     "output_type": "execute_result"
    }
   ],
   "source": [
    "s[:-3]"
   ]
  },
  {
   "cell_type": "code",
   "execution_count": 28,
   "id": "94e7a886",
   "metadata": {},
   "outputs": [
    {
     "data": {
      "text/plain": [
       "'hu'"
      ]
     },
     "execution_count": 28,
     "metadata": {},
     "output_type": "execute_result"
    }
   ],
   "source": [
    "s[-2:]"
   ]
  },
  {
   "cell_type": "code",
   "execution_count": 29,
   "id": "cb8082e4",
   "metadata": {},
   "outputs": [
    {
     "data": {
      "text/plain": [
       "'sudhanshu'"
      ]
     },
     "execution_count": 29,
     "metadata": {},
     "output_type": "execute_result"
    }
   ],
   "source": [
    "s[::1]"
   ]
  },
  {
   "cell_type": "code",
   "execution_count": 30,
   "id": "7ae21652",
   "metadata": {},
   "outputs": [
    {
     "data": {
      "text/plain": [
       "'sudhanshu'"
      ]
     },
     "execution_count": 30,
     "metadata": {},
     "output_type": "execute_result"
    }
   ],
   "source": [
    "s[0:50:1]"
   ]
  },
  {
   "cell_type": "code",
   "execution_count": 31,
   "id": "ea90d682",
   "metadata": {},
   "outputs": [
    {
     "data": {
      "text/plain": [
       "'uhsnahdus'"
      ]
     },
     "execution_count": 31,
     "metadata": {},
     "output_type": "execute_result"
    }
   ],
   "source": [
    "s[::-1]"
   ]
  },
  {
   "cell_type": "code",
   "execution_count": 32,
   "id": "5d54ab5d",
   "metadata": {},
   "outputs": [
    {
     "data": {
      "text/plain": [
       "\"this is my very first programming class's\""
      ]
     },
     "execution_count": 32,
     "metadata": {},
     "output_type": "execute_result"
    }
   ],
   "source": [
    "s2"
   ]
  },
  {
   "cell_type": "code",
   "execution_count": 33,
   "id": "b38e4ee1",
   "metadata": {},
   "outputs": [
    {
     "data": {
      "text/plain": [
       "\"s'ssalc gnimmargorp tsrif yrev ym si siht\""
      ]
     },
     "execution_count": 33,
     "metadata": {},
     "output_type": "execute_result"
    }
   ],
   "source": [
    "s2[::-1]"
   ]
  },
  {
   "cell_type": "code",
   "execution_count": null,
   "id": "ea4c29a4",
   "metadata": {},
   "outputs": [],
   "source": [
    "s[8:0:-1]='uhsnahdu' how s will come?"
   ]
  },
  {
   "cell_type": "code",
   "execution_count": 34,
   "id": "c73ea2af",
   "metadata": {},
   "outputs": [
    {
     "data": {
      "text/plain": [
       "'uhsnahdu'"
      ]
     },
     "execution_count": 34,
     "metadata": {},
     "output_type": "execute_result"
    }
   ],
   "source": [
    "s[8:0:-1]"
   ]
  },
  {
   "cell_type": "code",
   "execution_count": 35,
   "id": "76e63bdb",
   "metadata": {},
   "outputs": [
    {
     "data": {
      "text/plain": [
       "'sudhanshu'"
      ]
     },
     "execution_count": 35,
     "metadata": {},
     "output_type": "execute_result"
    }
   ],
   "source": [
    "s"
   ]
  },
  {
   "cell_type": "code",
   "execution_count": 36,
   "id": "ebd823c5",
   "metadata": {},
   "outputs": [],
   "source": [
    "s3 = 'ineuron'"
   ]
  },
  {
   "cell_type": "code",
   "execution_count": 37,
   "id": "eff2195d",
   "metadata": {},
   "outputs": [
    {
     "data": {
      "text/plain": [
       "'norueni'"
      ]
     },
     "execution_count": 37,
     "metadata": {},
     "output_type": "execute_result"
    }
   ],
   "source": [
    "s3[::-1]"
   ]
  },
  {
   "cell_type": "code",
   "execution_count": 38,
   "id": "ac1f7312",
   "metadata": {},
   "outputs": [
    {
     "data": {
      "text/plain": [
       "''"
      ]
     },
     "execution_count": 38,
     "metadata": {},
     "output_type": "execute_result"
    }
   ],
   "source": [
    "s3[-2:-7:1]"
   ]
  },
  {
   "cell_type": "code",
   "execution_count": 39,
   "id": "f93d9c08",
   "metadata": {},
   "outputs": [
    {
     "data": {
      "text/plain": [
       "'ineur'"
      ]
     },
     "execution_count": 39,
     "metadata": {},
     "output_type": "execute_result"
    }
   ],
   "source": [
    "s3[-7:-2:1]"
   ]
  },
  {
   "cell_type": "code",
   "execution_count": 40,
   "id": "ef7ec2b6",
   "metadata": {},
   "outputs": [
    {
     "data": {
      "text/plain": [
       "''"
      ]
     },
     "execution_count": 40,
     "metadata": {},
     "output_type": "execute_result"
    }
   ],
   "source": [
    "s[5:0]"
   ]
  },
  {
   "cell_type": "code",
   "execution_count": null,
   "id": "c5df5925",
   "metadata": {},
   "outputs": [],
   "source": [
    "s3[-7:-1:1] is giving 'ineuro' but why s3[-7:0:1] is giving blank ? i mean i want to print completely  'ineuron'\n"
   ]
  },
  {
   "cell_type": "code",
   "execution_count": 41,
   "id": "98305ecd",
   "metadata": {},
   "outputs": [
    {
     "data": {
      "text/plain": [
       "'ineuro'"
      ]
     },
     "execution_count": 41,
     "metadata": {},
     "output_type": "execute_result"
    }
   ],
   "source": [
    "s3[-7:-1:1]"
   ]
  },
  {
   "cell_type": "code",
   "execution_count": 42,
   "id": "c468488c",
   "metadata": {},
   "outputs": [
    {
     "data": {
      "text/plain": [
       "''"
      ]
     },
     "execution_count": 42,
     "metadata": {},
     "output_type": "execute_result"
    }
   ],
   "source": [
    "s3[-7:0:1]"
   ]
  },
  {
   "cell_type": "code",
   "execution_count": 46,
   "id": "f7b1136b",
   "metadata": {},
   "outputs": [
    {
     "data": {
      "text/plain": [
       "''"
      ]
     },
     "execution_count": 46,
     "metadata": {},
     "output_type": "execute_result"
    }
   ],
   "source": [
    "s[:-1:-1] "
   ]
  },
  {
   "cell_type": "code",
   "execution_count": 45,
   "id": "e88fda54",
   "metadata": {},
   "outputs": [
    {
     "data": {
      "text/plain": [
       "'sudhanshu'"
      ]
     },
     "execution_count": 45,
     "metadata": {},
     "output_type": "execute_result"
    }
   ],
   "source": [
    "s"
   ]
  },
  {
   "cell_type": "code",
   "execution_count": 47,
   "id": "b15d50c7",
   "metadata": {},
   "outputs": [
    {
     "data": {
      "text/plain": [
       "'sudhanshu'"
      ]
     },
     "execution_count": 47,
     "metadata": {},
     "output_type": "execute_result"
    }
   ],
   "source": [
    "s"
   ]
  },
  {
   "cell_type": "code",
   "execution_count": 48,
   "id": "9e1a40b2",
   "metadata": {},
   "outputs": [
    {
     "ename": "TypeError",
     "evalue": "can only concatenate str (not \"int\") to str",
     "output_type": "error",
     "traceback": [
      "\u001b[1;31m---------------------------------------------------------------------------\u001b[0m",
      "\u001b[1;31mTypeError\u001b[0m                                 Traceback (most recent call last)",
      "\u001b[1;32m~\\AppData\\Local\\Temp/ipykernel_22136/3893389454.py\u001b[0m in \u001b[0;36m<module>\u001b[1;34m\u001b[0m\n\u001b[1;32m----> 1\u001b[1;33m \u001b[0ms\u001b[0m \u001b[1;33m+\u001b[0m \u001b[1;36m1\u001b[0m\u001b[1;33m\u001b[0m\u001b[1;33m\u001b[0m\u001b[0m\n\u001b[0m",
      "\u001b[1;31mTypeError\u001b[0m: can only concatenate str (not \"int\") to str"
     ]
    }
   ],
   "source": [
    "s + 1"
   ]
  },
  {
   "cell_type": "code",
   "execution_count": 49,
   "id": "ea65620b",
   "metadata": {},
   "outputs": [
    {
     "data": {
      "text/plain": [
       "'sudhanshu1'"
      ]
     },
     "execution_count": 49,
     "metadata": {},
     "output_type": "execute_result"
    }
   ],
   "source": [
    "s + '1'"
   ]
  },
  {
   "cell_type": "code",
   "execution_count": 50,
   "id": "5cbfcb76",
   "metadata": {},
   "outputs": [
    {
     "data": {
      "text/plain": [
       "'sudhanshu1'"
      ]
     },
     "execution_count": 50,
     "metadata": {},
     "output_type": "execute_result"
    }
   ],
   "source": [
    "s+\"1\""
   ]
  },
  {
   "cell_type": "code",
   "execution_count": 51,
   "id": "e215acf3",
   "metadata": {},
   "outputs": [
    {
     "data": {
      "text/plain": [
       "'sudhanshu1'"
      ]
     },
     "execution_count": 51,
     "metadata": {},
     "output_type": "execute_result"
    }
   ],
   "source": [
    "s+ str(1)"
   ]
  },
  {
   "cell_type": "code",
   "execution_count": 53,
   "id": "4f133bca",
   "metadata": {},
   "outputs": [
    {
     "data": {
      "text/plain": [
       "'sudh45634673576458745687457'"
      ]
     },
     "execution_count": 53,
     "metadata": {},
     "output_type": "execute_result"
    }
   ],
   "source": [
    "\"sudh\" + '45634673576458745687457'\n"
   ]
  },
  {
   "cell_type": "code",
   "execution_count": 54,
   "id": "be48b48b",
   "metadata": {},
   "outputs": [
    {
     "data": {
      "text/plain": [
       "'sudhanshu'"
      ]
     },
     "execution_count": 54,
     "metadata": {},
     "output_type": "execute_result"
    }
   ],
   "source": [
    "s"
   ]
  },
  {
   "cell_type": "code",
   "execution_count": 55,
   "id": "0a4091c3",
   "metadata": {},
   "outputs": [
    {
     "data": {
      "text/plain": [
       "9"
      ]
     },
     "execution_count": 55,
     "metadata": {},
     "output_type": "execute_result"
    }
   ],
   "source": [
    "len(s)"
   ]
  },
  {
   "cell_type": "code",
   "execution_count": 56,
   "id": "73c33469",
   "metadata": {},
   "outputs": [
    {
     "data": {
      "text/plain": [
       "'sudhanshu'"
      ]
     },
     "execution_count": 56,
     "metadata": {},
     "output_type": "execute_result"
    }
   ],
   "source": [
    "s "
   ]
  },
  {
   "cell_type": "code",
   "execution_count": 58,
   "id": "d6f3a56e",
   "metadata": {},
   "outputs": [
    {
     "data": {
      "text/plain": [
       "'sudhanshusudhanshusudhanshusudhanshu'"
      ]
     },
     "execution_count": 58,
     "metadata": {},
     "output_type": "execute_result"
    }
   ],
   "source": [
    "s * 4"
   ]
  },
  {
   "cell_type": "code",
   "execution_count": 59,
   "id": "3e2032d4",
   "metadata": {},
   "outputs": [
    {
     "data": {
      "text/plain": [
       "'sudhanshu'"
      ]
     },
     "execution_count": 59,
     "metadata": {},
     "output_type": "execute_result"
    }
   ],
   "source": [
    "s"
   ]
  },
  {
   "cell_type": "code",
   "execution_count": 64,
   "id": "bacfea12",
   "metadata": {},
   "outputs": [
    {
     "data": {
      "text/plain": [
       "0"
      ]
     },
     "execution_count": 64,
     "metadata": {},
     "output_type": "execute_result"
    }
   ],
   "source": [
    "s.count('sum')"
   ]
  },
  {
   "cell_type": "code",
   "execution_count": 63,
   "id": "01d2de29",
   "metadata": {},
   "outputs": [
    {
     "data": {
      "text/plain": [
       "'sudhanshu'"
      ]
     },
     "execution_count": 63,
     "metadata": {},
     "output_type": "execute_result"
    }
   ],
   "source": [
    "s"
   ]
  },
  {
   "cell_type": "code",
   "execution_count": 67,
   "id": "ad35d8ae",
   "metadata": {},
   "outputs": [
    {
     "data": {
      "text/plain": [
       "list"
      ]
     },
     "execution_count": 67,
     "metadata": {},
     "output_type": "execute_result"
    }
   ],
   "source": [
    "type(s.split('u'))"
   ]
  },
  {
   "cell_type": "code",
   "execution_count": 68,
   "id": "affd70a0",
   "metadata": {},
   "outputs": [
    {
     "data": {
      "text/plain": [
       "['s', 'dhansh', '']"
      ]
     },
     "execution_count": 68,
     "metadata": {},
     "output_type": "execute_result"
    }
   ],
   "source": [
    "s.split('u')"
   ]
  },
  {
   "cell_type": "code",
   "execution_count": 210,
   "id": "5dcacc72",
   "metadata": {},
   "outputs": [],
   "source": [
    "sw = \"\"\"The Samsung Group[3] (or simply Samsung, stylized as SΛMSUNG) (Korean: 삼성 [samsʌŋ]) is a South Korean multinational manufacturing conglomerate headquartered in Samsung Town, Seoul, South Korea.[1] It comprises numerous affiliated businesses,[1] most of them united under the Samsung brand, and is the largest South Korean chaebol (business conglomerate). As of 2020, Samsung has the 8th highest global brand value.[4]\n",
    "\n",
    "Samsung was founded by Lee Byung-chul in 1938 as a trading company. Over the next three decades, the group diversified into areas including food processing, textiles, insurance, securities, and retail. Samsung entered the electronics industry in the late 1960s and the construction and shipbuilding industries in the mid-1970s; these areas would drive its subsequent growth. Following Lee's death in 1987, Samsung was separated into five business groups – Samsung Group, Shinsegae Group, CJ Group and Hansol Group, and Joongang Group.\n",
    "\n",
    "Notable Samsung industrial affiliates include Samsung Electronics (the world's largest information technology company, consumer electronics maker and chipmaker measured by 2017 revenues),[5][6] Samsung Heavy Industries (the world's 2nd largest shipbuilder measured by 2010 revenues),[7] and Samsung Engineering and Samsung C&T Corporation (respectively the world's 13th and 36th largest construction companies).[8] Other notable subsidiaries include Samsung Life Insurance (the world's 14th largest life insurance company),[9] Samsung Everland (operator of Everland Resort, the oldest theme park in South Korea)[10] and Cheil Worldwide (the world's 15th largest advertising agency, as measured by 2012 revenues).[11][12]\"\"\""
   ]
  },
  {
   "cell_type": "code",
   "execution_count": 71,
   "id": "3dc066d6",
   "metadata": {},
   "outputs": [],
   "source": [
    "sw = \"The Samsung Group[3] (or simply Samsung, stylized as SΛMSUNG) (Korean: 삼성 [samsʌŋ]) is a South Korean multinational manufacturing conglomerate\""
   ]
  },
  {
   "cell_type": "code",
   "execution_count": 72,
   "id": "d31cb78c",
   "metadata": {},
   "outputs": [
    {
     "data": {
      "text/plain": [
       "'The Samsung Group[3] (or simply Samsung, stylized as SΛMSUNG) (Korean: 삼성 [samsʌŋ]) is a South Korean multinational manufacturing conglomerate'"
      ]
     },
     "execution_count": 72,
     "metadata": {},
     "output_type": "execute_result"
    }
   ],
   "source": [
    "sw"
   ]
  },
  {
   "cell_type": "code",
   "execution_count": 73,
   "id": "b3073218",
   "metadata": {},
   "outputs": [
    {
     "data": {
      "text/plain": [
       "['The',\n",
       " 'Samsung',\n",
       " 'Group[3]',\n",
       " '(or',\n",
       " 'simply',\n",
       " 'Samsung,',\n",
       " 'stylized',\n",
       " 'as',\n",
       " 'SΛMSUNG)',\n",
       " '(Korean:',\n",
       " '삼성',\n",
       " '[samsʌŋ])',\n",
       " 'is',\n",
       " 'a',\n",
       " 'South',\n",
       " 'Korean',\n",
       " 'multinational',\n",
       " 'manufacturing',\n",
       " 'conglomerate']"
      ]
     },
     "execution_count": 73,
     "metadata": {},
     "output_type": "execute_result"
    }
   ],
   "source": [
    "sw.split(' ')"
   ]
  },
  {
   "cell_type": "code",
   "execution_count": 75,
   "id": "a44c898b",
   "metadata": {},
   "outputs": [
    {
     "data": {
      "text/plain": [
       "\"The Samsung Group[3] (or simply Samsung, stylized as SΛMSUNG) (Korean: 삼성 [samsʌŋ]) is a South Korean multinational manufacturing conglomerate headquartered in Samsung Town, Seoul, South Korea.[1] It comprises numerous affiliated businesses,[1] most of them united under the Samsung brand, and is the largest South Korean chaebol (business conglomerate). As of 2020, Samsung has the 8th highest global brand value.[4]\\n\\nSamsung was founded by Lee Byung-chul in 1938 as a trading company. Over the next three decades, the group diversified into areas including food processing, textiles, insurance, securities, and retail. Samsung entered the electronics industry in the late 1960s and the construction and shipbuilding industries in the mid-1970s; these areas would drive its subsequent growth. Following Lee's death in 1987, Samsung was separated into five business groups – Samsung Group, Shinsegae Group, CJ Group and Hansol Group, and Joongang Group.\\n\\nNotable Samsung industrial affiliates include Samsung Electronics (the world's largest information technology company, consumer electronics maker and chipmaker measured by 2017 revenues),[5][6] Samsung Heavy Industries (the world's 2nd largest shipbuilder measured by 2010 revenues),[7] and Samsung Engineering and Samsung C&T Corporation (respectively the world's 13th and 36th largest construction companies).[8] Other notable subsidiaries include Samsung Life Insurance (the world's 14th largest life insurance company),[9] Samsung Everland (operator of Everland Resort, the oldest theme park in South Korea)[10] and Cheil Worldwide (the world's 15th largest advertising agency, as measured by 2012 revenues).[11][12]\""
      ]
     },
     "execution_count": 75,
     "metadata": {},
     "output_type": "execute_result"
    }
   ],
   "source": [
    "sw"
   ]
  },
  {
   "cell_type": "code",
   "execution_count": 76,
   "id": "fe65151a",
   "metadata": {},
   "outputs": [
    {
     "data": {
      "text/plain": [
       "['The',\n",
       " 'Samsung',\n",
       " 'Group[3]',\n",
       " '(or',\n",
       " 'simply',\n",
       " 'Samsung,',\n",
       " 'stylized',\n",
       " 'as',\n",
       " 'SΛMSUNG)',\n",
       " '(Korean:',\n",
       " '삼성',\n",
       " '[samsʌŋ])',\n",
       " 'is',\n",
       " 'a',\n",
       " 'South',\n",
       " 'Korean',\n",
       " 'multinational',\n",
       " 'manufacturing',\n",
       " 'conglomerate',\n",
       " 'headquartered',\n",
       " 'in',\n",
       " 'Samsung',\n",
       " 'Town,',\n",
       " 'Seoul,',\n",
       " 'South',\n",
       " 'Korea.[1]',\n",
       " 'It',\n",
       " 'comprises',\n",
       " 'numerous',\n",
       " 'affiliated',\n",
       " 'businesses,[1]',\n",
       " 'most',\n",
       " 'of',\n",
       " 'them',\n",
       " 'united',\n",
       " 'under',\n",
       " 'the',\n",
       " 'Samsung',\n",
       " 'brand,',\n",
       " 'and',\n",
       " 'is',\n",
       " 'the',\n",
       " 'largest',\n",
       " 'South',\n",
       " 'Korean',\n",
       " 'chaebol',\n",
       " '(business',\n",
       " 'conglomerate).',\n",
       " 'As',\n",
       " 'of',\n",
       " '2020,',\n",
       " 'Samsung',\n",
       " 'has',\n",
       " 'the',\n",
       " '8th',\n",
       " 'highest',\n",
       " 'global',\n",
       " 'brand',\n",
       " 'value.[4]\\n\\nSamsung',\n",
       " 'was',\n",
       " 'founded',\n",
       " 'by',\n",
       " 'Lee',\n",
       " 'Byung-chul',\n",
       " 'in',\n",
       " '1938',\n",
       " 'as',\n",
       " 'a',\n",
       " 'trading',\n",
       " 'company.',\n",
       " 'Over',\n",
       " 'the',\n",
       " 'next',\n",
       " 'three',\n",
       " 'decades,',\n",
       " 'the',\n",
       " 'group',\n",
       " 'diversified',\n",
       " 'into',\n",
       " 'areas',\n",
       " 'including',\n",
       " 'food',\n",
       " 'processing,',\n",
       " 'textiles,',\n",
       " 'insurance,',\n",
       " 'securities,',\n",
       " 'and',\n",
       " 'retail.',\n",
       " 'Samsung',\n",
       " 'entered',\n",
       " 'the',\n",
       " 'electronics',\n",
       " 'industry',\n",
       " 'in',\n",
       " 'the',\n",
       " 'late',\n",
       " '1960s',\n",
       " 'and',\n",
       " 'the',\n",
       " 'construction',\n",
       " 'and',\n",
       " 'shipbuilding',\n",
       " 'industries',\n",
       " 'in',\n",
       " 'the',\n",
       " 'mid-1970s;',\n",
       " 'these',\n",
       " 'areas',\n",
       " 'would',\n",
       " 'drive',\n",
       " 'its',\n",
       " 'subsequent',\n",
       " 'growth.',\n",
       " 'Following',\n",
       " \"Lee's\",\n",
       " 'death',\n",
       " 'in',\n",
       " '1987,',\n",
       " 'Samsung',\n",
       " 'was',\n",
       " 'separated',\n",
       " 'into',\n",
       " 'five',\n",
       " 'business',\n",
       " 'groups',\n",
       " '–',\n",
       " 'Samsung',\n",
       " 'Group,',\n",
       " 'Shinsegae',\n",
       " 'Group,',\n",
       " 'CJ',\n",
       " 'Group',\n",
       " 'and',\n",
       " 'Hansol',\n",
       " 'Group,',\n",
       " 'and',\n",
       " 'Joongang',\n",
       " 'Group.\\n\\nNotable',\n",
       " 'Samsung',\n",
       " 'industrial',\n",
       " 'affiliates',\n",
       " 'include',\n",
       " 'Samsung',\n",
       " 'Electronics',\n",
       " '(the',\n",
       " \"world's\",\n",
       " 'largest',\n",
       " 'information',\n",
       " 'technology',\n",
       " 'company,',\n",
       " 'consumer',\n",
       " 'electronics',\n",
       " 'maker',\n",
       " 'and',\n",
       " 'chipmaker',\n",
       " 'measured',\n",
       " 'by',\n",
       " '2017',\n",
       " 'revenues),[5][6]',\n",
       " 'Samsung',\n",
       " 'Heavy',\n",
       " 'Industries',\n",
       " '(the',\n",
       " \"world's\",\n",
       " '2nd',\n",
       " 'largest',\n",
       " 'shipbuilder',\n",
       " 'measured',\n",
       " 'by',\n",
       " '2010',\n",
       " 'revenues),[7]',\n",
       " 'and',\n",
       " 'Samsung',\n",
       " 'Engineering',\n",
       " 'and',\n",
       " 'Samsung',\n",
       " 'C&T',\n",
       " 'Corporation',\n",
       " '(respectively',\n",
       " 'the',\n",
       " \"world's\",\n",
       " '13th',\n",
       " 'and',\n",
       " '36th',\n",
       " 'largest',\n",
       " 'construction',\n",
       " 'companies).[8]',\n",
       " 'Other',\n",
       " 'notable',\n",
       " 'subsidiaries',\n",
       " 'include',\n",
       " 'Samsung',\n",
       " 'Life',\n",
       " 'Insurance',\n",
       " '(the',\n",
       " \"world's\",\n",
       " '14th',\n",
       " 'largest',\n",
       " 'life',\n",
       " 'insurance',\n",
       " 'company),[9]',\n",
       " 'Samsung',\n",
       " 'Everland',\n",
       " '(operator',\n",
       " 'of',\n",
       " 'Everland',\n",
       " 'Resort,',\n",
       " 'the',\n",
       " 'oldest',\n",
       " 'theme',\n",
       " 'park',\n",
       " 'in',\n",
       " 'South',\n",
       " 'Korea)[10]',\n",
       " 'and',\n",
       " 'Cheil',\n",
       " 'Worldwide',\n",
       " '(the',\n",
       " \"world's\",\n",
       " '15th',\n",
       " 'largest',\n",
       " 'advertising',\n",
       " 'agency,',\n",
       " 'as',\n",
       " 'measured',\n",
       " 'by',\n",
       " '2012',\n",
       " 'revenues).[11][12]']"
      ]
     },
     "execution_count": 76,
     "metadata": {},
     "output_type": "execute_result"
    }
   ],
   "source": [
    "sw.split(' ')"
   ]
  },
  {
   "cell_type": "code",
   "execution_count": 77,
   "id": "d7381fbf",
   "metadata": {},
   "outputs": [
    {
     "data": {
      "text/plain": [
       "\"The Samsung Group[3] (or simply Samsung, stylized as SΛMSUNG) (Korean: 삼성 [samsʌŋ]) is a South Korean multinational manufacturing conglomerate headquartered in Samsung Town, Seoul, South Korea.[1] It comprises numerous affiliated businesses,[1] most of them united under the Samsung brand, and is the largest South Korean chaebol (business conglomerate). As of 2020, Samsung has the 8th highest global brand value.[4]\\n\\nSamsung was founded by Lee Byung-chul in 1938 as a trading company. Over the next three decades, the group diversified into areas including food processing, textiles, insurance, securities, and retail. Samsung entered the electronics industry in the late 1960s and the construction and shipbuilding industries in the mid-1970s; these areas would drive its subsequent growth. Following Lee's death in 1987, Samsung was separated into five business groups – Samsung Group, Shinsegae Group, CJ Group and Hansol Group, and Joongang Group.\\n\\nNotable Samsung industrial affiliates include Samsung Electronics (the world's largest information technology company, consumer electronics maker and chipmaker measured by 2017 revenues),[5][6] Samsung Heavy Industries (the world's 2nd largest shipbuilder measured by 2010 revenues),[7] and Samsung Engineering and Samsung C&T Corporation (respectively the world's 13th and 36th largest construction companies).[8] Other notable subsidiaries include Samsung Life Insurance (the world's 14th largest life insurance company),[9] Samsung Everland (operator of Everland Resort, the oldest theme park in South Korea)[10] and Cheil Worldwide (the world's 15th largest advertising agency, as measured by 2012 revenues).[11][12]\""
      ]
     },
     "execution_count": 77,
     "metadata": {},
     "output_type": "execute_result"
    }
   ],
   "source": [
    "sw"
   ]
  },
  {
   "cell_type": "code",
   "execution_count": 78,
   "id": "a6cf48e1",
   "metadata": {},
   "outputs": [
    {
     "data": {
      "text/plain": [
       "\"THE SAMSUNG GROUP[3] (OR SIMPLY SAMSUNG, STYLIZED AS SΛMSUNG) (KOREAN: 삼성 [SAMSɅŊ]) IS A SOUTH KOREAN MULTINATIONAL MANUFACTURING CONGLOMERATE HEADQUARTERED IN SAMSUNG TOWN, SEOUL, SOUTH KOREA.[1] IT COMPRISES NUMEROUS AFFILIATED BUSINESSES,[1] MOST OF THEM UNITED UNDER THE SAMSUNG BRAND, AND IS THE LARGEST SOUTH KOREAN CHAEBOL (BUSINESS CONGLOMERATE). AS OF 2020, SAMSUNG HAS THE 8TH HIGHEST GLOBAL BRAND VALUE.[4]\\n\\nSAMSUNG WAS FOUNDED BY LEE BYUNG-CHUL IN 1938 AS A TRADING COMPANY. OVER THE NEXT THREE DECADES, THE GROUP DIVERSIFIED INTO AREAS INCLUDING FOOD PROCESSING, TEXTILES, INSURANCE, SECURITIES, AND RETAIL. SAMSUNG ENTERED THE ELECTRONICS INDUSTRY IN THE LATE 1960S AND THE CONSTRUCTION AND SHIPBUILDING INDUSTRIES IN THE MID-1970S; THESE AREAS WOULD DRIVE ITS SUBSEQUENT GROWTH. FOLLOWING LEE'S DEATH IN 1987, SAMSUNG WAS SEPARATED INTO FIVE BUSINESS GROUPS – SAMSUNG GROUP, SHINSEGAE GROUP, CJ GROUP AND HANSOL GROUP, AND JOONGANG GROUP.\\n\\nNOTABLE SAMSUNG INDUSTRIAL AFFILIATES INCLUDE SAMSUNG ELECTRONICS (THE WORLD'S LARGEST INFORMATION TECHNOLOGY COMPANY, CONSUMER ELECTRONICS MAKER AND CHIPMAKER MEASURED BY 2017 REVENUES),[5][6] SAMSUNG HEAVY INDUSTRIES (THE WORLD'S 2ND LARGEST SHIPBUILDER MEASURED BY 2010 REVENUES),[7] AND SAMSUNG ENGINEERING AND SAMSUNG C&T CORPORATION (RESPECTIVELY THE WORLD'S 13TH AND 36TH LARGEST CONSTRUCTION COMPANIES).[8] OTHER NOTABLE SUBSIDIARIES INCLUDE SAMSUNG LIFE INSURANCE (THE WORLD'S 14TH LARGEST LIFE INSURANCE COMPANY),[9] SAMSUNG EVERLAND (OPERATOR OF EVERLAND RESORT, THE OLDEST THEME PARK IN SOUTH KOREA)[10] AND CHEIL WORLDWIDE (THE WORLD'S 15TH LARGEST ADVERTISING AGENCY, AS MEASURED BY 2012 REVENUES).[11][12]\""
      ]
     },
     "execution_count": 78,
     "metadata": {},
     "output_type": "execute_result"
    }
   ],
   "source": [
    "sw.upper()"
   ]
  },
  {
   "cell_type": "code",
   "execution_count": 79,
   "id": "b9557aa4",
   "metadata": {},
   "outputs": [
    {
     "data": {
      "text/plain": [
       "\"The Samsung Group[3] (or simply Samsung, stylized as SΛMSUNG) (Korean: 삼성 [samsʌŋ]) is a South Korean multinational manufacturing conglomerate headquartered in Samsung Town, Seoul, South Korea.[1] It comprises numerous affiliated businesses,[1] most of them united under the Samsung brand, and is the largest South Korean chaebol (business conglomerate). As of 2020, Samsung has the 8th highest global brand value.[4]\\n\\nSamsung was founded by Lee Byung-chul in 1938 as a trading company. Over the next three decades, the group diversified into areas including food processing, textiles, insurance, securities, and retail. Samsung entered the electronics industry in the late 1960s and the construction and shipbuilding industries in the mid-1970s; these areas would drive its subsequent growth. Following Lee's death in 1987, Samsung was separated into five business groups – Samsung Group, Shinsegae Group, CJ Group and Hansol Group, and Joongang Group.\\n\\nNotable Samsung industrial affiliates include Samsung Electronics (the world's largest information technology company, consumer electronics maker and chipmaker measured by 2017 revenues),[5][6] Samsung Heavy Industries (the world's 2nd largest shipbuilder measured by 2010 revenues),[7] and Samsung Engineering and Samsung C&T Corporation (respectively the world's 13th and 36th largest construction companies).[8] Other notable subsidiaries include Samsung Life Insurance (the world's 14th largest life insurance company),[9] Samsung Everland (operator of Everland Resort, the oldest theme park in South Korea)[10] and Cheil Worldwide (the world's 15th largest advertising agency, as measured by 2012 revenues).[11][12]\""
      ]
     },
     "execution_count": 79,
     "metadata": {},
     "output_type": "execute_result"
    }
   ],
   "source": [
    "sw"
   ]
  },
  {
   "cell_type": "code",
   "execution_count": 80,
   "id": "69bfb5ed",
   "metadata": {},
   "outputs": [],
   "source": [
    "sw = sw.upper()"
   ]
  },
  {
   "cell_type": "code",
   "execution_count": 81,
   "id": "59191441",
   "metadata": {},
   "outputs": [
    {
     "data": {
      "text/plain": [
       "\"THE SAMSUNG GROUP[3] (OR SIMPLY SAMSUNG, STYLIZED AS SΛMSUNG) (KOREAN: 삼성 [SAMSɅŊ]) IS A SOUTH KOREAN MULTINATIONAL MANUFACTURING CONGLOMERATE HEADQUARTERED IN SAMSUNG TOWN, SEOUL, SOUTH KOREA.[1] IT COMPRISES NUMEROUS AFFILIATED BUSINESSES,[1] MOST OF THEM UNITED UNDER THE SAMSUNG BRAND, AND IS THE LARGEST SOUTH KOREAN CHAEBOL (BUSINESS CONGLOMERATE). AS OF 2020, SAMSUNG HAS THE 8TH HIGHEST GLOBAL BRAND VALUE.[4]\\n\\nSAMSUNG WAS FOUNDED BY LEE BYUNG-CHUL IN 1938 AS A TRADING COMPANY. OVER THE NEXT THREE DECADES, THE GROUP DIVERSIFIED INTO AREAS INCLUDING FOOD PROCESSING, TEXTILES, INSURANCE, SECURITIES, AND RETAIL. SAMSUNG ENTERED THE ELECTRONICS INDUSTRY IN THE LATE 1960S AND THE CONSTRUCTION AND SHIPBUILDING INDUSTRIES IN THE MID-1970S; THESE AREAS WOULD DRIVE ITS SUBSEQUENT GROWTH. FOLLOWING LEE'S DEATH IN 1987, SAMSUNG WAS SEPARATED INTO FIVE BUSINESS GROUPS – SAMSUNG GROUP, SHINSEGAE GROUP, CJ GROUP AND HANSOL GROUP, AND JOONGANG GROUP.\\n\\nNOTABLE SAMSUNG INDUSTRIAL AFFILIATES INCLUDE SAMSUNG ELECTRONICS (THE WORLD'S LARGEST INFORMATION TECHNOLOGY COMPANY, CONSUMER ELECTRONICS MAKER AND CHIPMAKER MEASURED BY 2017 REVENUES),[5][6] SAMSUNG HEAVY INDUSTRIES (THE WORLD'S 2ND LARGEST SHIPBUILDER MEASURED BY 2010 REVENUES),[7] AND SAMSUNG ENGINEERING AND SAMSUNG C&T CORPORATION (RESPECTIVELY THE WORLD'S 13TH AND 36TH LARGEST CONSTRUCTION COMPANIES).[8] OTHER NOTABLE SUBSIDIARIES INCLUDE SAMSUNG LIFE INSURANCE (THE WORLD'S 14TH LARGEST LIFE INSURANCE COMPANY),[9] SAMSUNG EVERLAND (OPERATOR OF EVERLAND RESORT, THE OLDEST THEME PARK IN SOUTH KOREA)[10] AND CHEIL WORLDWIDE (THE WORLD'S 15TH LARGEST ADVERTISING AGENCY, AS MEASURED BY 2012 REVENUES).[11][12]\""
      ]
     },
     "execution_count": 81,
     "metadata": {},
     "output_type": "execute_result"
    }
   ],
   "source": [
    "sw"
   ]
  },
  {
   "cell_type": "code",
   "execution_count": 82,
   "id": "c5247dce",
   "metadata": {},
   "outputs": [
    {
     "data": {
      "text/plain": [
       "\"the samsung group[3] (or simply samsung, stylized as sλmsung) (korean: 삼성 [samsʌŋ]) is a south korean multinational manufacturing conglomerate headquartered in samsung town, seoul, south korea.[1] it comprises numerous affiliated businesses,[1] most of them united under the samsung brand, and is the largest south korean chaebol (business conglomerate). as of 2020, samsung has the 8th highest global brand value.[4]\\n\\nsamsung was founded by lee byung-chul in 1938 as a trading company. over the next three decades, the group diversified into areas including food processing, textiles, insurance, securities, and retail. samsung entered the electronics industry in the late 1960s and the construction and shipbuilding industries in the mid-1970s; these areas would drive its subsequent growth. following lee's death in 1987, samsung was separated into five business groups – samsung group, shinsegae group, cj group and hansol group, and joongang group.\\n\\nnotable samsung industrial affiliates include samsung electronics (the world's largest information technology company, consumer electronics maker and chipmaker measured by 2017 revenues),[5][6] samsung heavy industries (the world's 2nd largest shipbuilder measured by 2010 revenues),[7] and samsung engineering and samsung c&t corporation (respectively the world's 13th and 36th largest construction companies).[8] other notable subsidiaries include samsung life insurance (the world's 14th largest life insurance company),[9] samsung everland (operator of everland resort, the oldest theme park in south korea)[10] and cheil worldwide (the world's 15th largest advertising agency, as measured by 2012 revenues).[11][12]\""
      ]
     },
     "execution_count": 82,
     "metadata": {},
     "output_type": "execute_result"
    }
   ],
   "source": [
    "sw.lower()"
   ]
  },
  {
   "cell_type": "code",
   "execution_count": 86,
   "id": "942a4060",
   "metadata": {},
   "outputs": [],
   "source": [
    "s = \"sudhanshu kumar\""
   ]
  },
  {
   "cell_type": "code",
   "execution_count": 87,
   "id": "622fc5af",
   "metadata": {},
   "outputs": [
    {
     "data": {
      "text/plain": [
       "'Sudhanshu Kumar'"
      ]
     },
     "execution_count": 87,
     "metadata": {},
     "output_type": "execute_result"
    }
   ],
   "source": [
    "s.title()"
   ]
  },
  {
   "cell_type": "code",
   "execution_count": 88,
   "id": "6ba9191a",
   "metadata": {},
   "outputs": [
    {
     "data": {
      "text/plain": [
       "'Sudhanshu kumar'"
      ]
     },
     "execution_count": 88,
     "metadata": {},
     "output_type": "execute_result"
    }
   ],
   "source": [
    "s.capitalize()"
   ]
  },
  {
   "cell_type": "code",
   "execution_count": 89,
   "id": "240eea37",
   "metadata": {},
   "outputs": [],
   "source": [
    "s = \"Sudhanshu kuMAR\""
   ]
  },
  {
   "cell_type": "code",
   "execution_count": 90,
   "id": "02ad1c47",
   "metadata": {},
   "outputs": [
    {
     "data": {
      "text/plain": [
       "'sUDHANSHU KUmar'"
      ]
     },
     "execution_count": 90,
     "metadata": {},
     "output_type": "execute_result"
    }
   ],
   "source": [
    "s.swapcase()"
   ]
  },
  {
   "cell_type": "code",
   "execution_count": 92,
   "id": "455898e8",
   "metadata": {},
   "outputs": [
    {
     "data": {
      "text/plain": [
       "'RAMuk uhsnahduS'"
      ]
     },
     "execution_count": 92,
     "metadata": {},
     "output_type": "execute_result"
    }
   ],
   "source": [
    "''.join(reversed(s))"
   ]
  },
  {
   "cell_type": "code",
   "execution_count": 94,
   "id": "61c9dccb",
   "metadata": {},
   "outputs": [
    {
     "data": {
      "text/plain": [
       "'RAMuk uhsnahduS'"
      ]
     },
     "execution_count": 94,
     "metadata": {},
     "output_type": "execute_result"
    }
   ],
   "source": [
    "s[::-1]"
   ]
  },
  {
   "cell_type": "code",
   "execution_count": 97,
   "id": "472dbbd0",
   "metadata": {},
   "outputs": [],
   "source": [
    "s = \"    su    dh    \""
   ]
  },
  {
   "cell_type": "code",
   "execution_count": 98,
   "id": "7d512c42",
   "metadata": {},
   "outputs": [
    {
     "data": {
      "text/plain": [
       "'su    dh'"
      ]
     },
     "execution_count": 98,
     "metadata": {},
     "output_type": "execute_result"
    }
   ],
   "source": [
    "s.strip()"
   ]
  },
  {
   "cell_type": "code",
   "execution_count": 99,
   "id": "99fdf8a2",
   "metadata": {},
   "outputs": [
    {
     "data": {
      "text/plain": [
       "'    su    dh    '"
      ]
     },
     "execution_count": 99,
     "metadata": {},
     "output_type": "execute_result"
    }
   ],
   "source": [
    "s"
   ]
  },
  {
   "cell_type": "code",
   "execution_count": 100,
   "id": "12e41eab",
   "metadata": {},
   "outputs": [
    {
     "data": {
      "text/plain": [
       "'su    dh    '"
      ]
     },
     "execution_count": 100,
     "metadata": {},
     "output_type": "execute_result"
    }
   ],
   "source": [
    "s.lstrip()"
   ]
  },
  {
   "cell_type": "code",
   "execution_count": 101,
   "id": "3c058480",
   "metadata": {},
   "outputs": [
    {
     "data": {
      "text/plain": [
       "'    su    dh'"
      ]
     },
     "execution_count": 101,
     "metadata": {},
     "output_type": "execute_result"
    }
   ],
   "source": [
    "s.rstrip()"
   ]
  },
  {
   "cell_type": "code",
   "execution_count": 103,
   "id": "5f6a1ad8",
   "metadata": {},
   "outputs": [
    {
     "data": {
      "text/plain": [
       "'sauadahaaanasahau'"
      ]
     },
     "execution_count": 103,
     "metadata": {},
     "output_type": "execute_result"
    }
   ],
   "source": [
    "\"a\" . join(\"sudhanshu\")"
   ]
  },
  {
   "cell_type": "code",
   "execution_count": 104,
   "id": "99610fdd",
   "metadata": {},
   "outputs": [
    {
     "data": {
      "text/plain": [
       "'    su    dh    '"
      ]
     },
     "execution_count": 104,
     "metadata": {},
     "output_type": "execute_result"
    }
   ],
   "source": [
    "s"
   ]
  },
  {
   "cell_type": "code",
   "execution_count": 105,
   "id": "5f6bf9e8",
   "metadata": {},
   "outputs": [],
   "source": [
    "s = \"sudh\""
   ]
  },
  {
   "cell_type": "code",
   "execution_count": 107,
   "id": "45c7e91b",
   "metadata": {},
   "outputs": [
    {
     "data": {
      "text/plain": [
       "'########sudh########'"
      ]
     },
     "execution_count": 107,
     "metadata": {},
     "output_type": "execute_result"
    }
   ],
   "source": [
    "s.center(20 , '#')"
   ]
  },
  {
   "cell_type": "code",
   "execution_count": 108,
   "id": "393e2cbd",
   "metadata": {},
   "outputs": [],
   "source": [
    "s = \"Sudhanshu\""
   ]
  },
  {
   "cell_type": "code",
   "execution_count": 109,
   "id": "cb8953d0",
   "metadata": {},
   "outputs": [
    {
     "data": {
      "text/plain": [
       "False"
      ]
     },
     "execution_count": 109,
     "metadata": {},
     "output_type": "execute_result"
    }
   ],
   "source": [
    "s.isupper()"
   ]
  },
  {
   "cell_type": "code",
   "execution_count": 110,
   "id": "cbfdb59b",
   "metadata": {},
   "outputs": [],
   "source": [
    "s1 = \"SUDH\""
   ]
  },
  {
   "cell_type": "code",
   "execution_count": 111,
   "id": "9a8d2872",
   "metadata": {},
   "outputs": [
    {
     "data": {
      "text/plain": [
       "True"
      ]
     },
     "execution_count": 111,
     "metadata": {},
     "output_type": "execute_result"
    }
   ],
   "source": [
    "s1.isupper()"
   ]
  },
  {
   "cell_type": "code",
   "execution_count": 112,
   "id": "94f47204",
   "metadata": {},
   "outputs": [
    {
     "data": {
      "text/plain": [
       "False"
      ]
     },
     "execution_count": 112,
     "metadata": {},
     "output_type": "execute_result"
    }
   ],
   "source": [
    "s.islower()"
   ]
  },
  {
   "cell_type": "code",
   "execution_count": 113,
   "id": "fb8651c4",
   "metadata": {},
   "outputs": [],
   "source": [
    "s2 = \"sudh\""
   ]
  },
  {
   "cell_type": "code",
   "execution_count": 114,
   "id": "28789a4b",
   "metadata": {},
   "outputs": [
    {
     "data": {
      "text/plain": [
       "True"
      ]
     },
     "execution_count": 114,
     "metadata": {},
     "output_type": "execute_result"
    }
   ],
   "source": [
    "s2.islower()"
   ]
  },
  {
   "cell_type": "code",
   "execution_count": 115,
   "id": "62ebb425",
   "metadata": {},
   "outputs": [
    {
     "data": {
      "text/plain": [
       "'Sudhanshu'"
      ]
     },
     "execution_count": 115,
     "metadata": {},
     "output_type": "execute_result"
    }
   ],
   "source": [
    "s"
   ]
  },
  {
   "cell_type": "code",
   "execution_count": 116,
   "id": "07f647af",
   "metadata": {},
   "outputs": [
    {
     "data": {
      "text/plain": [
       "False"
      ]
     },
     "execution_count": 116,
     "metadata": {},
     "output_type": "execute_result"
    }
   ],
   "source": [
    "s.isspace()"
   ]
  },
  {
   "cell_type": "code",
   "execution_count": 117,
   "id": "f850c464",
   "metadata": {},
   "outputs": [],
   "source": [
    "s4  = \"   \""
   ]
  },
  {
   "cell_type": "code",
   "execution_count": 118,
   "id": "992b5c57",
   "metadata": {},
   "outputs": [
    {
     "data": {
      "text/plain": [
       "True"
      ]
     },
     "execution_count": 118,
     "metadata": {},
     "output_type": "execute_result"
    }
   ],
   "source": [
    "s4.isspace()"
   ]
  },
  {
   "cell_type": "code",
   "execution_count": 119,
   "id": "5d88e13f",
   "metadata": {},
   "outputs": [
    {
     "data": {
      "text/plain": [
       "'Sudhanshu'"
      ]
     },
     "execution_count": 119,
     "metadata": {},
     "output_type": "execute_result"
    }
   ],
   "source": [
    "s"
   ]
  },
  {
   "cell_type": "code",
   "execution_count": 120,
   "id": "89094c48",
   "metadata": {},
   "outputs": [
    {
     "data": {
      "text/plain": [
       "False"
      ]
     },
     "execution_count": 120,
     "metadata": {},
     "output_type": "execute_result"
    }
   ],
   "source": [
    "s.isdigit()"
   ]
  },
  {
   "cell_type": "code",
   "execution_count": 121,
   "id": "3feccd08",
   "metadata": {},
   "outputs": [],
   "source": [
    "s5 = \"32424\""
   ]
  },
  {
   "cell_type": "code",
   "execution_count": 122,
   "id": "faca1ecb",
   "metadata": {},
   "outputs": [
    {
     "data": {
      "text/plain": [
       "True"
      ]
     },
     "execution_count": 122,
     "metadata": {},
     "output_type": "execute_result"
    }
   ],
   "source": [
    "s5.isdigit()"
   ]
  },
  {
   "cell_type": "code",
   "execution_count": 123,
   "id": "047e85cf",
   "metadata": {},
   "outputs": [],
   "source": [
    "s6 = \"sdf3454\""
   ]
  },
  {
   "cell_type": "code",
   "execution_count": 124,
   "id": "8bf23e06",
   "metadata": {},
   "outputs": [
    {
     "data": {
      "text/plain": [
       "False"
      ]
     },
     "execution_count": 124,
     "metadata": {},
     "output_type": "execute_result"
    }
   ],
   "source": [
    "s6.isdigit()"
   ]
  },
  {
   "cell_type": "code",
   "execution_count": 125,
   "id": "2f7e532c",
   "metadata": {},
   "outputs": [
    {
     "data": {
      "text/plain": [
       "'Sudhanshu'"
      ]
     },
     "execution_count": 125,
     "metadata": {},
     "output_type": "execute_result"
    }
   ],
   "source": [
    "s"
   ]
  },
  {
   "cell_type": "code",
   "execution_count": 126,
   "id": "4f29c5a7",
   "metadata": {},
   "outputs": [
    {
     "data": {
      "text/plain": [
       "True"
      ]
     },
     "execution_count": 126,
     "metadata": {},
     "output_type": "execute_result"
    }
   ],
   "source": [
    "s.isalnum()"
   ]
  },
  {
   "cell_type": "code",
   "execution_count": 127,
   "id": "289cf2b8",
   "metadata": {},
   "outputs": [
    {
     "data": {
      "text/plain": [
       "True"
      ]
     },
     "execution_count": 127,
     "metadata": {},
     "output_type": "execute_result"
    }
   ],
   "source": [
    "s.isalpha()"
   ]
  },
  {
   "cell_type": "code",
   "execution_count": 128,
   "id": "e5b21fe2",
   "metadata": {},
   "outputs": [],
   "source": [
    "s7 = \"345345sgfdg\""
   ]
  },
  {
   "cell_type": "code",
   "execution_count": 129,
   "id": "d68b17b6",
   "metadata": {},
   "outputs": [
    {
     "data": {
      "text/plain": [
       "False"
      ]
     },
     "execution_count": 129,
     "metadata": {},
     "output_type": "execute_result"
    }
   ],
   "source": [
    "s7.isalpha()"
   ]
  },
  {
   "cell_type": "code",
   "execution_count": 130,
   "id": "f1f494db",
   "metadata": {},
   "outputs": [
    {
     "data": {
      "text/plain": [
       "'Sudhanshu'"
      ]
     },
     "execution_count": 130,
     "metadata": {},
     "output_type": "execute_result"
    }
   ],
   "source": [
    "s"
   ]
  },
  {
   "cell_type": "code",
   "execution_count": 131,
   "id": "c05c939c",
   "metadata": {},
   "outputs": [
    {
     "data": {
      "text/plain": [
       "False"
      ]
     },
     "execution_count": 131,
     "metadata": {},
     "output_type": "execute_result"
    }
   ],
   "source": [
    "s.startswith('i')"
   ]
  },
  {
   "cell_type": "code",
   "execution_count": 132,
   "id": "5acc3dad",
   "metadata": {},
   "outputs": [
    {
     "data": {
      "text/plain": [
       "False"
      ]
     },
     "execution_count": 132,
     "metadata": {},
     "output_type": "execute_result"
    }
   ],
   "source": [
    "s.startswith('s')"
   ]
  },
  {
   "cell_type": "code",
   "execution_count": 133,
   "id": "4f178822",
   "metadata": {},
   "outputs": [
    {
     "data": {
      "text/plain": [
       "True"
      ]
     },
     "execution_count": 133,
     "metadata": {},
     "output_type": "execute_result"
    }
   ],
   "source": [
    "s.startswith(\"S\")"
   ]
  },
  {
   "cell_type": "code",
   "execution_count": 134,
   "id": "9d19e9aa",
   "metadata": {},
   "outputs": [
    {
     "data": {
      "text/plain": [
       "False"
      ]
     },
     "execution_count": 134,
     "metadata": {},
     "output_type": "execute_result"
    }
   ],
   "source": [
    "s.endswith('n')"
   ]
  },
  {
   "cell_type": "code",
   "execution_count": 135,
   "id": "4a8014d4",
   "metadata": {},
   "outputs": [
    {
     "data": {
      "text/plain": [
       "True"
      ]
     },
     "execution_count": 135,
     "metadata": {},
     "output_type": "execute_result"
    }
   ],
   "source": [
    "s.endswith('u')"
   ]
  },
  {
   "cell_type": "code",
   "execution_count": 136,
   "id": "82bc7032",
   "metadata": {},
   "outputs": [
    {
     "data": {
      "text/plain": [
       "'Sudhanshu'"
      ]
     },
     "execution_count": 136,
     "metadata": {},
     "output_type": "execute_result"
    }
   ],
   "source": [
    "s"
   ]
  },
  {
   "cell_type": "code",
   "execution_count": 137,
   "id": "4ebc67c5",
   "metadata": {},
   "outputs": [
    {
     "data": {
      "text/plain": [
       "'345345sgfdg'"
      ]
     },
     "execution_count": 137,
     "metadata": {},
     "output_type": "execute_result"
    }
   ],
   "source": [
    "s7"
   ]
  },
  {
   "cell_type": "code",
   "execution_count": 138,
   "id": "830a1db5",
   "metadata": {},
   "outputs": [
    {
     "data": {
      "text/plain": [
       "'Sudhanshu'"
      ]
     },
     "execution_count": 138,
     "metadata": {},
     "output_type": "execute_result"
    }
   ],
   "source": [
    "s"
   ]
  },
  {
   "cell_type": "code",
   "execution_count": 139,
   "id": "a91991a8",
   "metadata": {},
   "outputs": [
    {
     "data": {
      "text/plain": [
       "False"
      ]
     },
     "execution_count": 139,
     "metadata": {},
     "output_type": "execute_result"
    }
   ],
   "source": [
    "s.isdigit()"
   ]
  },
  {
   "cell_type": "code",
   "execution_count": 140,
   "id": "b0b3b87c",
   "metadata": {},
   "outputs": [
    {
     "data": {
      "text/plain": [
       "False"
      ]
     },
     "execution_count": 140,
     "metadata": {},
     "output_type": "execute_result"
    }
   ],
   "source": [
    "s.isnumeric()"
   ]
  },
  {
   "cell_type": "code",
   "execution_count": 145,
   "id": "55d85b77",
   "metadata": {},
   "outputs": [
    {
     "data": {
      "text/plain": [
       "True"
      ]
     },
     "execution_count": 145,
     "metadata": {},
     "output_type": "execute_result"
    }
   ],
   "source": [
    "s.startswith(\"\")"
   ]
  },
  {
   "cell_type": "code",
   "execution_count": 146,
   "id": "919861e1",
   "metadata": {},
   "outputs": [
    {
     "data": {
      "text/plain": [
       "'Sudhanshu'"
      ]
     },
     "execution_count": 146,
     "metadata": {},
     "output_type": "execute_result"
    }
   ],
   "source": [
    "s"
   ]
  },
  {
   "cell_type": "code",
   "execution_count": 147,
   "id": "bc2ed536",
   "metadata": {},
   "outputs": [
    {
     "data": {
      "text/plain": [
       "True"
      ]
     },
     "execution_count": 147,
     "metadata": {},
     "output_type": "execute_result"
    }
   ],
   "source": [
    "s.isascii()"
   ]
  },
  {
   "cell_type": "code",
   "execution_count": 150,
   "id": "9785e054",
   "metadata": {},
   "outputs": [
    {
     "data": {
      "text/plain": [
       "False"
      ]
     },
     "execution_count": 150,
     "metadata": {},
     "output_type": "execute_result"
    }
   ],
   "source": [
    "s = 'sudhanshu123   '\n",
    "\n",
    "s.isalnum()\n"
   ]
  },
  {
   "cell_type": "code",
   "execution_count": 153,
   "id": "7c4fcb81",
   "metadata": {},
   "outputs": [
    {
     "data": {
      "text/plain": [
       "False"
      ]
     },
     "execution_count": 153,
     "metadata": {},
     "output_type": "execute_result"
    }
   ],
   "source": [
    "s =' 5 '\n",
    "s.isspace()\n"
   ]
  },
  {
   "cell_type": "code",
   "execution_count": 157,
   "id": "78175eff",
   "metadata": {},
   "outputs": [
    {
     "data": {
      "text/plain": [
       "'@@@@@@@@ 5 @@@@@@@@@'"
      ]
     },
     "execution_count": 157,
     "metadata": {},
     "output_type": "execute_result"
    }
   ],
   "source": [
    "s.center (20,'@')\n"
   ]
  },
  {
   "cell_type": "code",
   "execution_count": 156,
   "id": "bf97c0ee",
   "metadata": {},
   "outputs": [
    {
     "data": {
      "text/plain": [
       "' 5 '"
      ]
     },
     "execution_count": 156,
     "metadata": {},
     "output_type": "execute_result"
    }
   ],
   "source": [
    "s"
   ]
  },
  {
   "cell_type": "code",
   "execution_count": 162,
   "id": "90948472",
   "metadata": {},
   "outputs": [
    {
     "data": {
      "text/plain": [
       "True"
      ]
     },
     "execution_count": 162,
     "metadata": {},
     "output_type": "execute_result"
    }
   ],
   "source": [
    "s1 = '456'\n",
    "s1.isalnum()\n"
   ]
  },
  {
   "cell_type": "code",
   "execution_count": 163,
   "id": "c04de114",
   "metadata": {},
   "outputs": [],
   "source": [
    "s=\"this is my very first programming class\"\n"
   ]
  },
  {
   "cell_type": "code",
   "execution_count": 164,
   "id": "d39a3721",
   "metadata": {},
   "outputs": [
    {
     "data": {
      "text/plain": [
       "False"
      ]
     },
     "execution_count": 164,
     "metadata": {},
     "output_type": "execute_result"
    }
   ],
   "source": [
    "s.isspace()"
   ]
  },
  {
   "cell_type": "code",
   "execution_count": 167,
   "id": "ba1fcee8",
   "metadata": {},
   "outputs": [],
   "source": [
    "s = \" 6    \""
   ]
  },
  {
   "cell_type": "code",
   "execution_count": 168,
   "id": "fb995492",
   "metadata": {},
   "outputs": [
    {
     "data": {
      "text/plain": [
       "False"
      ]
     },
     "execution_count": 168,
     "metadata": {},
     "output_type": "execute_result"
    }
   ],
   "source": [
    "s.isspace()"
   ]
  },
  {
   "cell_type": "code",
   "execution_count": 169,
   "id": "ab79914d",
   "metadata": {},
   "outputs": [],
   "source": [
    "s = \"453443\""
   ]
  },
  {
   "cell_type": "code",
   "execution_count": 170,
   "id": "49bd55fc",
   "metadata": {},
   "outputs": [
    {
     "data": {
      "text/plain": [
       "True"
      ]
     },
     "execution_count": 170,
     "metadata": {},
     "output_type": "execute_result"
    }
   ],
   "source": [
    "s.isdigit()"
   ]
  },
  {
   "cell_type": "code",
   "execution_count": 171,
   "id": "6bce4062",
   "metadata": {},
   "outputs": [],
   "source": [
    "s1 = \"fasfdas345346346\""
   ]
  },
  {
   "cell_type": "code",
   "execution_count": 172,
   "id": "503ddca6",
   "metadata": {},
   "outputs": [
    {
     "data": {
      "text/plain": [
       "False"
      ]
     },
     "execution_count": 172,
     "metadata": {},
     "output_type": "execute_result"
    }
   ],
   "source": [
    "s1.isnumeric()"
   ]
  },
  {
   "cell_type": "code",
   "execution_count": 174,
   "id": "8085f88b",
   "metadata": {},
   "outputs": [],
   "source": [
    "s2 = \"345435 3455 3453\""
   ]
  },
  {
   "cell_type": "code",
   "execution_count": 175,
   "id": "7ddeddb9",
   "metadata": {},
   "outputs": [
    {
     "data": {
      "text/plain": [
       "False"
      ]
     },
     "execution_count": 175,
     "metadata": {},
     "output_type": "execute_result"
    }
   ],
   "source": [
    "s2.isnumeric()"
   ]
  },
  {
   "cell_type": "code",
   "execution_count": 176,
   "id": "68193a7a",
   "metadata": {},
   "outputs": [
    {
     "data": {
      "text/plain": [
       "True"
      ]
     },
     "execution_count": 176,
     "metadata": {},
     "output_type": "execute_result"
    }
   ],
   "source": [
    "s.isnumeric()"
   ]
  },
  {
   "cell_type": "code",
   "execution_count": 177,
   "id": "c12bac37",
   "metadata": {},
   "outputs": [
    {
     "data": {
      "text/plain": [
       "False"
      ]
     },
     "execution_count": 177,
     "metadata": {},
     "output_type": "execute_result"
    }
   ],
   "source": [
    "s2.isdigit()"
   ]
  },
  {
   "cell_type": "code",
   "execution_count": 178,
   "id": "444702f2",
   "metadata": {},
   "outputs": [],
   "source": [
    "s = 56"
   ]
  },
  {
   "cell_type": "code",
   "execution_count": 179,
   "id": "46785c09",
   "metadata": {},
   "outputs": [],
   "source": [
    "s= \"sudh\""
   ]
  },
  {
   "cell_type": "code",
   "execution_count": 180,
   "id": "d0cd41cd",
   "metadata": {},
   "outputs": [
    {
     "data": {
      "text/plain": [
       "<reversed at 0x20c125452b0>"
      ]
     },
     "execution_count": 180,
     "metadata": {},
     "output_type": "execute_result"
    }
   ],
   "source": [
    "reversed(s)"
   ]
  },
  {
   "cell_type": "code",
   "execution_count": 181,
   "id": "7d718f63",
   "metadata": {},
   "outputs": [
    {
     "data": {
      "text/plain": [
       "'idndedudrdodn'"
      ]
     },
     "execution_count": 181,
     "metadata": {},
     "output_type": "execute_result"
    }
   ],
   "source": [
    "'d'.join(\"ineuron\")"
   ]
  },
  {
   "cell_type": "code",
   "execution_count": 182,
   "id": "519985e3",
   "metadata": {},
   "outputs": [
    {
     "data": {
      "text/plain": [
       "'hdus'"
      ]
     },
     "execution_count": 182,
     "metadata": {},
     "output_type": "execute_result"
    }
   ],
   "source": [
    "\"\".join(reversed(\"sudh\"))"
   ]
  },
  {
   "cell_type": "code",
   "execution_count": 183,
   "id": "314d8c50",
   "metadata": {},
   "outputs": [],
   "source": [
    "s= \"453453.456\""
   ]
  },
  {
   "cell_type": "code",
   "execution_count": 184,
   "id": "edbad17d",
   "metadata": {},
   "outputs": [
    {
     "data": {
      "text/plain": [
       "False"
      ]
     },
     "execution_count": 184,
     "metadata": {},
     "output_type": "execute_result"
    }
   ],
   "source": [
    "s.isdigit()"
   ]
  },
  {
   "cell_type": "code",
   "execution_count": 185,
   "id": "62d07187",
   "metadata": {},
   "outputs": [
    {
     "data": {
      "text/plain": [
       "False"
      ]
     },
     "execution_count": 185,
     "metadata": {},
     "output_type": "execute_result"
    }
   ],
   "source": [
    "s.isnumeric()"
   ]
  },
  {
   "cell_type": "code",
   "execution_count": 190,
   "id": "161ae891",
   "metadata": {},
   "outputs": [],
   "source": [
    "s = 'sudhanshu\\tkumar\\tineuron'"
   ]
  },
  {
   "cell_type": "code",
   "execution_count": 191,
   "id": "357e2493",
   "metadata": {},
   "outputs": [
    {
     "data": {
      "text/plain": [
       "'sudhanshu       kumar   ineuron'"
      ]
     },
     "execution_count": 191,
     "metadata": {},
     "output_type": "execute_result"
    }
   ],
   "source": [
    "s.expandtabs()"
   ]
  },
  {
   "cell_type": "code",
   "execution_count": 193,
   "id": "bf2f8276",
   "metadata": {},
   "outputs": [
    {
     "data": {
      "text/plain": [
       "'uhsnahduS'"
      ]
     },
     "execution_count": 193,
     "metadata": {},
     "output_type": "execute_result"
    }
   ],
   "source": [
    "s=\"Sudhanshu\"\n",
    "\n",
    "\"\".join(reversed(s))\n"
   ]
  },
  {
   "cell_type": "code",
   "execution_count": 194,
   "id": "29fae4c5",
   "metadata": {},
   "outputs": [
    {
     "data": {
      "text/plain": [
       "'hhe     gge     hhe'"
      ]
     },
     "execution_count": 194,
     "metadata": {},
     "output_type": "execute_result"
    }
   ],
   "source": [
    "s=\"hhe\\tgge\\thhe\"\n",
    "s.expandtabs()\n"
   ]
  },
  {
   "cell_type": "code",
   "execution_count": null,
   "id": "af633e34",
   "metadata": {},
   "outputs": [],
   "source": [
    "s = \"this is My First Python programming class and i am learNING python string and its function\"\n",
    "1 . Try to extract data from index one to index 300 with a jump of 3 \n",
    "2. Try to reverse a string without using reverse function \n",
    "3. Try to split a string after conversion of entire string in uppercase \n",
    "4. try to convert the whole string into lower case \n",
    "5 . Try to capitalize the whole string \n",
    "6 . Write a diference between isalnum() and isalpha()\n",
    "7. Try to give an example of expand tab\n",
    "8 . Give an example of strip , lstrip and rstrip \n",
    "9.  Replace a string charecter by another charector by taking your own example \n",
    "\"sudhanshu\"\n",
    "10 . Try  to give a defination of string center function with and exmple \n",
    "11 . Write your own definition of compiler and interpretor without copy paste form internet in your own language\n",
    "12 . Python is a interpreted of compiled language give a clear ans with your understanding \n",
    "13 . Try to write a usecase of python with your understanding .\n",
    "\n",
    "\n",
    "you have to send a jupyter notebook to shivan@ineuron.ai before next saturday class 21st of may . \n"
   ]
  },
  {
   "cell_type": "code",
   "execution_count": null,
   "id": "748dc4a1",
   "metadata": {},
   "outputs": [],
   "source": [
    "https://codeshare.io/X8PY8Y"
   ]
  },
  {
   "cell_type": "code",
   "execution_count": 195,
   "id": "0df42042",
   "metadata": {},
   "outputs": [
    {
     "data": {
      "text/plain": [
       "''"
      ]
     },
     "execution_count": 195,
     "metadata": {},
     "output_type": "execute_result"
    }
   ],
   "source": [
    "s = \"sudhanshu\"\n",
    "s[-2:-7]"
   ]
  },
  {
   "cell_type": "code",
   "execution_count": 196,
   "id": "346ecf7d",
   "metadata": {},
   "outputs": [],
   "source": [
    "x = '\\13'"
   ]
  },
  {
   "cell_type": "code",
   "execution_count": 197,
   "id": "94da8b05",
   "metadata": {},
   "outputs": [
    {
     "data": {
      "text/plain": [
       "True"
      ]
     },
     "execution_count": 197,
     "metadata": {},
     "output_type": "execute_result"
    }
   ],
   "source": [
    "x.isspace()"
   ]
  },
  {
   "cell_type": "code",
   "execution_count": 198,
   "id": "1197db7d",
   "metadata": {},
   "outputs": [
    {
     "data": {
      "text/plain": [
       "True"
      ]
     },
     "execution_count": 198,
     "metadata": {},
     "output_type": "execute_result"
    }
   ],
   "source": [
    "True "
   ]
  },
  {
   "cell_type": "code",
   "execution_count": 199,
   "id": "996ad10e",
   "metadata": {},
   "outputs": [
    {
     "data": {
      "text/plain": [
       "0"
      ]
     },
     "execution_count": 199,
     "metadata": {},
     "output_type": "execute_result"
    }
   ],
   "source": [
    "True -True "
   ]
  },
  {
   "cell_type": "code",
   "execution_count": 201,
   "id": "dde145fc",
   "metadata": {},
   "outputs": [],
   "source": [
    "s= \"Rambabu\""
   ]
  },
  {
   "cell_type": "code",
   "execution_count": 202,
   "id": "796b50cb",
   "metadata": {},
   "outputs": [
    {
     "data": {
      "text/plain": [
       "'ubabmaR'"
      ]
     },
     "execution_count": 202,
     "metadata": {},
     "output_type": "execute_result"
    }
   ],
   "source": [
    "s[::-1]"
   ]
  },
  {
   "cell_type": "code",
   "execution_count": 203,
   "id": "602fe207",
   "metadata": {},
   "outputs": [
    {
     "data": {
      "text/plain": [
       "'Rambabu'"
      ]
     },
     "execution_count": 203,
     "metadata": {},
     "output_type": "execute_result"
    }
   ],
   "source": [
    "s[::+1]"
   ]
  },
  {
   "cell_type": "code",
   "execution_count": 208,
   "id": "c840bc01",
   "metadata": {},
   "outputs": [],
   "source": [
    "s =\"man's work\""
   ]
  },
  {
   "cell_type": "code",
   "execution_count": 209,
   "id": "96635fd4",
   "metadata": {},
   "outputs": [
    {
     "data": {
      "text/plain": [
       "\"man's work\""
      ]
     },
     "execution_count": 209,
     "metadata": {},
     "output_type": "execute_result"
    }
   ],
   "source": [
    "s"
   ]
  },
  {
   "cell_type": "code",
   "execution_count": 211,
   "id": "cf5d3a59",
   "metadata": {},
   "outputs": [
    {
     "data": {
      "text/plain": [
       "\"The Samsung Group[3] (or simply Samsung, stylized as SΛMSUNG) (Korean: 삼성 [samsʌŋ]) is a South Korean multinational manufacturing conglomerate headquartered in Samsung Town, Seoul, South Korea.[1] It comprises numerous affiliated businesses,[1] most of them united under the Samsung brand, and is the largest South Korean chaebol (business conglomerate). As of 2020, Samsung has the 8th highest global brand value.[4]\\n\\nSamsung was founded by Lee Byung-chul in 1938 as a trading company. Over the next three decades, the group diversified into areas including food processing, textiles, insurance, securities, and retail. Samsung entered the electronics industry in the late 1960s and the construction and shipbuilding industries in the mid-1970s; these areas would drive its subsequent growth. Following Lee's death in 1987, Samsung was separated into five business groups – Samsung Group, Shinsegae Group, CJ Group and Hansol Group, and Joongang Group.\\n\\nNotable Samsung industrial affiliates include Samsung Electronics (the world's largest information technology company, consumer electronics maker and chipmaker measured by 2017 revenues),[5][6] Samsung Heavy Industries (the world's 2nd largest shipbuilder measured by 2010 revenues),[7] and Samsung Engineering and Samsung C&T Corporation (respectively the world's 13th and 36th largest construction companies).[8] Other notable subsidiaries include Samsung Life Insurance (the world's 14th largest life insurance company),[9] Samsung Everland (operator of Everland Resort, the oldest theme park in South Korea)[10] and Cheil Worldwide (the world's 15th largest advertising agency, as measured by 2012 revenues).[11][12]\""
      ]
     },
     "execution_count": 211,
     "metadata": {},
     "output_type": "execute_result"
    }
   ],
   "source": [
    "sw"
   ]
  },
  {
   "cell_type": "code",
   "execution_count": 213,
   "id": "f902de4a",
   "metadata": {},
   "outputs": [
    {
     "data": {
      "text/plain": [
       "5"
      ]
     },
     "execution_count": 213,
     "metadata": {},
     "output_type": "execute_result"
    }
   ],
   "source": [
    "len(sw.splitlines())"
   ]
  },
  {
   "cell_type": "code",
   "execution_count": 214,
   "id": "893e46eb",
   "metadata": {},
   "outputs": [
    {
     "data": {
      "text/plain": [
       "['s', 'dhansh', '']"
      ]
     },
     "execution_count": 214,
     "metadata": {},
     "output_type": "execute_result"
    }
   ],
   "source": [
    "s= \"sudhanshu\"\n",
    "s.split('u')"
   ]
  },
  {
   "cell_type": "code",
   "execution_count": 215,
   "id": "e452843b",
   "metadata": {},
   "outputs": [],
   "source": [
    "b = \"ujjwal\""
   ]
  },
  {
   "cell_type": "code",
   "execution_count": 217,
   "id": "ffb7bfd2",
   "metadata": {},
   "outputs": [
    {
     "data": {
      "text/plain": [
       "'#ujjwal'"
      ]
     },
     "execution_count": 217,
     "metadata": {},
     "output_type": "execute_result"
    }
   ],
   "source": [
    "b.center(7, \"#\")"
   ]
  },
  {
   "cell_type": "code",
   "execution_count": 218,
   "id": "e0e5e254",
   "metadata": {},
   "outputs": [],
   "source": [
    "s = 'ar\\bt\\yt'"
   ]
  },
  {
   "cell_type": "code",
   "execution_count": 219,
   "id": "ebe7ade1",
   "metadata": {},
   "outputs": [
    {
     "data": {
      "text/plain": [
       "'ar\\x08t\\\\yt'"
      ]
     },
     "execution_count": 219,
     "metadata": {},
     "output_type": "execute_result"
    }
   ],
   "source": [
    "s.expandtabs()"
   ]
  },
  {
   "cell_type": "code",
   "execution_count": 220,
   "id": "1db49dc6",
   "metadata": {},
   "outputs": [
    {
     "data": {
      "text/plain": [
       "'hu'"
      ]
     },
     "execution_count": 220,
     "metadata": {},
     "output_type": "execute_result"
    }
   ],
   "source": [
    "s= \"sudhanshu\"\n",
    "s[-2:]"
   ]
  },
  {
   "cell_type": "code",
   "execution_count": null,
   "id": "ca56678a",
   "metadata": {},
   "outputs": [],
   "source": [
    "\"\"\"The Samsung Group[3] (or simply Samsung, stylized as SΛMSUNG) (Korean: 삼성 [samsʌŋ]) is a South Korean multinational manufacturing conglomerate headquartered in Samsung Town, Seoul, South Korea.[1] It comprises numerous affiliated businesses,[1] most of them united under the Samsung brand, and is the largest South Korean chaebol (business conglomerate). As of 2020, Samsung has the 8th highest global brand value.[4]\n",
    "\n",
    "Samsung was founded by Lee Byung-chul in 1938 as a trading company. Over the next three decades, the group diversified into areas including food processing, textiles, insurance, securities, and retail. Samsung entered the electronics industry in the late 1960s and the construction and shipbuilding industries in the mid-1970s; these areas would drive its subsequent growth. Following Lee's death in 1987, Samsung was separated into five business groups – Samsung Group, Shinsegae Group, CJ Group and Hansol Group, and Joongang Group.\n",
    "\n",
    "Notable Samsung industrial affiliates include Samsung Electronics (the world's largest information technology company, consumer electronics maker and chipmaker measured by 2017 revenues),[5][6] Samsung Heavy Industries (the world's 2nd largest shipbuilder measured by 2010 revenues),[7] and Samsung Engineering and Samsung C&T Corporation (respectively the world's 13th and 36th largest construction companies).[8] Other notable subsidiaries include Samsung Life Insurance (the world's 14th largest life insurance company),[9] Samsung Everland (operator of Everland Resort, the oldest theme park in South Korea)[10] and Cheil Worldwide (the world's 15th largest advertising agency, as measured by 2012 revenues).[11][12]\"\"\""
   ]
  },
  {
   "cell_type": "code",
   "execution_count": 222,
   "id": "a7285532",
   "metadata": {},
   "outputs": [
    {
     "data": {
      "text/plain": [
       "''"
      ]
     },
     "execution_count": 222,
     "metadata": {},
     "output_type": "execute_result"
    }
   ],
   "source": [
    "c = \"iNeuron\"\n",
    "c[-7:0:1]"
   ]
  },
  {
   "cell_type": "code",
   "execution_count": 223,
   "id": "14ebdb2b",
   "metadata": {},
   "outputs": [],
   "source": [
    "s = \"sudhanshu\\tkumar\""
   ]
  },
  {
   "cell_type": "code",
   "execution_count": 224,
   "id": "c104f85c",
   "metadata": {},
   "outputs": [
    {
     "data": {
      "text/plain": [
       "'sudhanshu       kumar'"
      ]
     },
     "execution_count": 224,
     "metadata": {},
     "output_type": "execute_result"
    }
   ],
   "source": [
    "s.expandtabs()"
   ]
  },
  {
   "cell_type": "code",
   "execution_count": 225,
   "id": "7957cfb4",
   "metadata": {},
   "outputs": [
    {
     "data": {
      "text/plain": [
       "'sudhsudhsudh'"
      ]
     },
     "execution_count": 225,
     "metadata": {},
     "output_type": "execute_result"
    }
   ],
   "source": [
    "\"sudh\" *3 "
   ]
  },
  {
   "cell_type": "code",
   "execution_count": 226,
   "id": "542c53c6",
   "metadata": {},
   "outputs": [
    {
     "data": {
      "text/plain": [
       "\"The Samsung Group[3] (or simply Samsung, stylized as SΛMSUNG) (Korean: 삼성 [samsʌŋ]) is a South Korean multinational manufacturing conglomerate headquartered in Samsung Town, Seoul, South Korea.[1] It comprises numerous affiliated businesses,[1] most of them united under the Samsung brand, and is the largest South Korean chaebol (business conglomerate). As of 2020, Samsung has the 8th highest global brand value.[4]\\n\\nSamsung was founded by Lee Byung-chul in 1938 as a trading company. Over the next three decades, the group diversified into areas including food processing, textiles, insurance, securities, and retail. Samsung entered the electronics industry in the late 1960s and the construction and shipbuilding industries in the mid-1970s; these areas would drive its subsequent growth. Following Lee's death in 1987, Samsung was separated into five business groups – Samsung Group, Shinsegae Group, CJ Group and Hansol Group, and Joongang Group.\\n\\nNotable Samsung industrial affiliates include Samsung Electronics (the world's largest information technology company, consumer electronics maker and chipmaker measured by 2017 revenues),[5][6] Samsung Heavy Industries (the world's 2nd largest shipbuilder measured by 2010 revenues),[7] and Samsung Engineering and Samsung C&T Corporation (respectively the world's 13th and 36th largest construction companies).[8] Other notable subsidiaries include Samsung Life Insurance (the world's 14th largest life insurance company),[9] Samsung Everland (operator of Everland Resort, the oldest theme park in South Korea)[10] and Cheil Worldwide (the world's 15th largest advertising agency, as measured by 2012 revenues).[11][12]\""
      ]
     },
     "execution_count": 226,
     "metadata": {},
     "output_type": "execute_result"
    }
   ],
   "source": [
    "sw"
   ]
  },
  {
   "cell_type": "code",
   "execution_count": 228,
   "id": "0020ddcb",
   "metadata": {},
   "outputs": [],
   "source": [
    "s= sw.upper()"
   ]
  },
  {
   "cell_type": "code",
   "execution_count": 232,
   "id": "89750e7b",
   "metadata": {},
   "outputs": [
    {
     "data": {
      "text/plain": [
       "\"The Samsung Group[3] (Or Simply Samsung, Stylized As Sλmsung) (Korean: 삼성 [Samsʌŋ]) Is A South Korean Multinational Manufacturing Conglomerate Headquartered In Samsung Town, Seoul, South Korea.[1] It Comprises Numerous Affiliated Businesses,[1] Most Of Them United Under The Samsung Brand, And Is The Largest South Korean Chaebol (Business Conglomerate). As Of 2020, Samsung Has The 8Th Highest Global Brand Value.[4]\\n\\nSamsung Was Founded By Lee Byung-Chul In 1938 As A Trading Company. Over The Next Three Decades, The Group Diversified Into Areas Including Food Processing, Textiles, Insurance, Securities, And Retail. Samsung Entered The Electronics Industry In The Late 1960S And The Construction And Shipbuilding Industries In The Mid-1970S; These Areas Would Drive Its Subsequent Growth. Following Lee'S Death In 1987, Samsung Was Separated Into Five Business Groups – Samsung Group, Shinsegae Group, Cj Group And Hansol Group, And Joongang Group.\\n\\nNotable Samsung Industrial Affiliates Include Samsung Electronics (The World'S Largest Information Technology Company, Consumer Electronics Maker And Chipmaker Measured By 2017 Revenues),[5][6] Samsung Heavy Industries (The World'S 2Nd Largest Shipbuilder Measured By 2010 Revenues),[7] And Samsung Engineering And Samsung C&T Corporation (Respectively The World'S 13Th And 36Th Largest Construction Companies).[8] Other Notable Subsidiaries Include Samsung Life Insurance (The World'S 14Th Largest Life Insurance Company),[9] Samsung Everland (Operator Of Everland Resort, The Oldest Theme Park In South Korea)[10] And Cheil Worldwide (The World'S 15Th Largest Advertising Agency, As Measured By 2012 Revenues).[11][12]\""
      ]
     },
     "execution_count": 232,
     "metadata": {},
     "output_type": "execute_result"
    }
   ],
   "source": [
    "s.title()"
   ]
  },
  {
   "cell_type": "code",
   "execution_count": 230,
   "id": "04eea734",
   "metadata": {},
   "outputs": [
    {
     "data": {
      "text/plain": [
       "['THE SAMSUNG GROUP[3] (OR SIMPLY SAMSUNG, STYLIZED AS SΛMSUNG) (KOREAN: 삼성 [SAMSɅŊ]) IS A SOUTH KOREAN MULTINATIONAL MANUFACTURING CONGLOMERATE HEADQUARTERED IN SAMSUNG TOWN, SEOUL, SOUTH KOREA.[1] IT COMPRISES NUMEROUS AFFILIATED BUSINESSES,[1] MOST OF THEM UNITED UNDER THE SAMSUNG BRAND, AND IS THE LARGEST SOUTH KOREAN CHAEBOL (BUSINESS CONGLOMERATE). AS OF 2020, SAMSUNG HAS THE 8TH HIGHEST GLOBAL BRAND VALUE.[4]',\n",
       " '',\n",
       " \"SAMSUNG WAS FOUNDED BY LEE BYUNG-CHUL IN 1938 AS A TRADING COMPANY. OVER THE NEXT THREE DECADES, THE GROUP DIVERSIFIED INTO AREAS INCLUDING FOOD PROCESSING, TEXTILES, INSURANCE, SECURITIES, AND RETAIL. SAMSUNG ENTERED THE ELECTRONICS INDUSTRY IN THE LATE 1960S AND THE CONSTRUCTION AND SHIPBUILDING INDUSTRIES IN THE MID-1970S; THESE AREAS WOULD DRIVE ITS SUBSEQUENT GROWTH. FOLLOWING LEE'S DEATH IN 1987, SAMSUNG WAS SEPARATED INTO FIVE BUSINESS GROUPS – SAMSUNG GROUP, SHINSEGAE GROUP, CJ GROUP AND HANSOL GROUP, AND JOONGANG GROUP.\",\n",
       " '',\n",
       " \"NOTABLE SAMSUNG INDUSTRIAL AFFILIATES INCLUDE SAMSUNG ELECTRONICS (THE WORLD'S LARGEST INFORMATION TECHNOLOGY COMPANY, CONSUMER ELECTRONICS MAKER AND CHIPMAKER MEASURED BY 2017 REVENUES),[5][6] SAMSUNG HEAVY INDUSTRIES (THE WORLD'S 2ND LARGEST SHIPBUILDER MEASURED BY 2010 REVENUES),[7] AND SAMSUNG ENGINEERING AND SAMSUNG C&T CORPORATION (RESPECTIVELY THE WORLD'S 13TH AND 36TH LARGEST CONSTRUCTION COMPANIES).[8] OTHER NOTABLE SUBSIDIARIES INCLUDE SAMSUNG LIFE INSURANCE (THE WORLD'S 14TH LARGEST LIFE INSURANCE COMPANY),[9] SAMSUNG EVERLAND (OPERATOR OF EVERLAND RESORT, THE OLDEST THEME PARK IN SOUTH KOREA)[10] AND CHEIL WORLDWIDE (THE WORLD'S 15TH LARGEST ADVERTISING AGENCY, AS MEASURED BY 2012 REVENUES).[11][12]\"]"
      ]
     },
     "execution_count": 230,
     "metadata": {},
     "output_type": "execute_result"
    }
   ],
   "source": [
    "s.splitlines()"
   ]
  },
  {
   "cell_type": "code",
   "execution_count": 234,
   "id": "10912834",
   "metadata": {},
   "outputs": [
    {
     "data": {
      "text/plain": [
       "'uhsnahdu'"
      ]
     },
     "execution_count": 234,
     "metadata": {},
     "output_type": "execute_result"
    }
   ],
   "source": [
    "s = \"sudhanshu\"\n",
    "s[len(s):0:-1]"
   ]
  },
  {
   "cell_type": "code",
   "execution_count": 235,
   "id": "0aca9eee",
   "metadata": {},
   "outputs": [
    {
     "data": {
      "text/plain": [
       "'sudhanshu'"
      ]
     },
     "execution_count": 235,
     "metadata": {},
     "output_type": "execute_result"
    }
   ],
   "source": [
    "\"\".join(\"sudhanshu\")"
   ]
  },
  {
   "cell_type": "code",
   "execution_count": 245,
   "id": "2a0f1be3",
   "metadata": {},
   "outputs": [
    {
     "data": {
      "text/plain": [
       "'uhsnahdus'"
      ]
     },
     "execution_count": 245,
     "metadata": {},
     "output_type": "execute_result"
    }
   ],
   "source": [
    "s= \"sudhanshu\"\n",
    "s= reversed(s)\n",
    "\"\".join(s)\n"
   ]
  },
  {
   "cell_type": "code",
   "execution_count": 246,
   "id": "52736866",
   "metadata": {},
   "outputs": [
    {
     "data": {
      "text/plain": [
       "''"
      ]
     },
     "execution_count": 246,
     "metadata": {},
     "output_type": "execute_result"
    }
   ],
   "source": [
    "\"\".join(s)"
   ]
  },
  {
   "cell_type": "code",
   "execution_count": 247,
   "id": "c50bbd41",
   "metadata": {},
   "outputs": [
    {
     "data": {
      "text/plain": [
       "''"
      ]
     },
     "execution_count": 247,
     "metadata": {},
     "output_type": "execute_result"
    }
   ],
   "source": [
    "\"\".join(s)"
   ]
  },
  {
   "cell_type": "code",
   "execution_count": 248,
   "id": "1b9df594",
   "metadata": {},
   "outputs": [
    {
     "data": {
      "text/plain": [
       "<reversed at 0x20c1259d490>"
      ]
     },
     "execution_count": 248,
     "metadata": {},
     "output_type": "execute_result"
    }
   ],
   "source": [
    "s"
   ]
  },
  {
   "cell_type": "code",
   "execution_count": 250,
   "id": "463f93a9",
   "metadata": {},
   "outputs": [],
   "source": [
    "for i in s :\n",
    "    print(i)"
   ]
  },
  {
   "cell_type": "code",
   "execution_count": 251,
   "id": "e2595d92",
   "metadata": {},
   "outputs": [],
   "source": [
    "s = 'ineuron'"
   ]
  },
  {
   "cell_type": "code",
   "execution_count": 253,
   "id": "f10a8dc1",
   "metadata": {},
   "outputs": [
    {
     "data": {
      "text/plain": [
       "'n'"
      ]
     },
     "execution_count": 253,
     "metadata": {},
     "output_type": "execute_result"
    }
   ],
   "source": [
    "s[-1:]"
   ]
  },
  {
   "cell_type": "code",
   "execution_count": 254,
   "id": "a837075f",
   "metadata": {},
   "outputs": [
    {
     "data": {
      "text/plain": [
       "'sudhansh'"
      ]
     },
     "execution_count": 254,
     "metadata": {},
     "output_type": "execute_result"
    }
   ],
   "source": [
    "s = \"sudhanshu\"\n",
    "s[-12:-1:1]"
   ]
  },
  {
   "cell_type": "code",
   "execution_count": 255,
   "id": "2423481c",
   "metadata": {},
   "outputs": [
    {
     "data": {
      "text/plain": [
       "''"
      ]
     },
     "execution_count": 255,
     "metadata": {},
     "output_type": "execute_result"
    }
   ],
   "source": [
    "s[-12:0:1]"
   ]
  },
  {
   "cell_type": "code",
   "execution_count": 261,
   "id": "2ba85d31",
   "metadata": {},
   "outputs": [],
   "source": [
    "s = \"i\\live\\in\\delhi\""
   ]
  },
  {
   "cell_type": "code",
   "execution_count": 262,
   "id": "4a61d378",
   "metadata": {},
   "outputs": [
    {
     "data": {
      "text/plain": [
       "['i', 'live', 'in', 'delhi']"
      ]
     },
     "execution_count": 262,
     "metadata": {},
     "output_type": "execute_result"
    }
   ],
   "source": [
    "s.split('\\\\')"
   ]
  },
  {
   "cell_type": "code",
   "execution_count": 264,
   "id": "91df19ce",
   "metadata": {},
   "outputs": [
    {
     "data": {
      "text/plain": [
       "True"
      ]
     },
     "execution_count": 264,
     "metadata": {},
     "output_type": "execute_result"
    }
   ],
   "source": [
    "s = \"sudh\"\n",
    "s.isalpha()"
   ]
  },
  {
   "cell_type": "code",
   "execution_count": 265,
   "id": "9fa031ab",
   "metadata": {},
   "outputs": [],
   "source": [
    "s1 = \"sudh3453\""
   ]
  },
  {
   "cell_type": "code",
   "execution_count": 266,
   "id": "9d05fa78",
   "metadata": {},
   "outputs": [
    {
     "data": {
      "text/plain": [
       "True"
      ]
     },
     "execution_count": 266,
     "metadata": {},
     "output_type": "execute_result"
    }
   ],
   "source": [
    "s1.isalnum()"
   ]
  },
  {
   "cell_type": "code",
   "execution_count": null,
   "id": "3b5e4198",
   "metadata": {},
   "outputs": [],
   "source": []
  }
 ],
 "metadata": {
  "kernelspec": {
   "display_name": "Python 3 (ipykernel)",
   "language": "python",
   "name": "python3"
  },
  "language_info": {
   "codemirror_mode": {
    "name": "ipython",
    "version": 3
   },
   "file_extension": ".py",
   "mimetype": "text/x-python",
   "name": "python",
   "nbconvert_exporter": "python",
   "pygments_lexer": "ipython3",
   "version": "3.9.7"
  }
 },
 "nbformat": 4,
 "nbformat_minor": 5
}
