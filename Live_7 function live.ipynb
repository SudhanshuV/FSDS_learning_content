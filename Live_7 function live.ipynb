{
 "cells": [
  {
   "cell_type": "code",
   "execution_count": 5,
   "id": "72a69607",
   "metadata": {},
   "outputs": [],
   "source": [
    "def test(a,b):\n",
    "    'this will add two number'\n",
    "    return a+b\n",
    "    "
   ]
  },
  {
   "cell_type": "code",
   "execution_count": 6,
   "id": "60bd5cca",
   "metadata": {},
   "outputs": [
    {
     "data": {
      "text/plain": [
       "80"
      ]
     },
     "execution_count": 6,
     "metadata": {},
     "output_type": "execute_result"
    }
   ],
   "source": [
    "test(13,67)"
   ]
  },
  {
   "cell_type": "code",
   "execution_count": 7,
   "id": "62852a44",
   "metadata": {},
   "outputs": [
    {
     "data": {
      "text/plain": [
       "124"
      ]
     },
     "execution_count": 7,
     "metadata": {},
     "output_type": "execute_result"
    }
   ],
   "source": [
    "test(a=34,b=90)"
   ]
  },
  {
   "cell_type": "code",
   "execution_count": 4,
   "id": "577bfa45",
   "metadata": {},
   "outputs": [
    {
     "data": {
      "text/plain": [
       "'sudhanshu'"
      ]
     },
     "execution_count": 4,
     "metadata": {},
     "output_type": "execute_result"
    }
   ],
   "source": [
    "test('sudha','nshu')"
   ]
  },
  {
   "cell_type": "code",
   "execution_count": 9,
   "id": "82c35fb4",
   "metadata": {},
   "outputs": [],
   "source": [
    "def test1(*args):\n",
    "    return args"
   ]
  },
  {
   "cell_type": "code",
   "execution_count": 10,
   "id": "c137b476",
   "metadata": {},
   "outputs": [
    {
     "data": {
      "text/plain": [
       "(1, 234, 'sudhanshu', True)"
      ]
     },
     "execution_count": 10,
     "metadata": {},
     "output_type": "execute_result"
    }
   ],
   "source": [
    "test1(1,234,'sudhanshu',True)"
   ]
  },
  {
   "cell_type": "code",
   "execution_count": 11,
   "id": "14c035df",
   "metadata": {},
   "outputs": [],
   "source": [
    "def ntolist(*n):\n",
    "    l=[]\n",
    "    for i in n:\n",
    "        l.append(i)\n",
    "    return l"
   ]
  },
  {
   "cell_type": "code",
   "execution_count": 12,
   "id": "ba2ae2cf",
   "metadata": {},
   "outputs": [
    {
     "data": {
      "text/plain": [
       "[1, 23, 3, 23, 5, 54, 6]"
      ]
     },
     "execution_count": 12,
     "metadata": {},
     "output_type": "execute_result"
    }
   ],
   "source": [
    "ntolist(1,23,3,23,5,54,6)"
   ]
  },
  {
   "cell_type": "code",
   "execution_count": 21,
   "id": "c4bc803c",
   "metadata": {},
   "outputs": [],
   "source": [
    "def test6(a,b,c,d,*m):\n",
    "    return a,b,c,m"
   ]
  },
  {
   "cell_type": "code",
   "execution_count": 22,
   "id": "ea7d1aa2",
   "metadata": {},
   "outputs": [
    {
     "data": {
      "text/plain": [
       "(122, 43, 654, (34, 32, 324, 563, 5, 23324))"
      ]
     },
     "execution_count": 22,
     "metadata": {},
     "output_type": "execute_result"
    }
   ],
   "source": [
    "test6(122,43,654,76,34,32,324,563,5,23324)"
   ]
  },
  {
   "cell_type": "code",
   "execution_count": 23,
   "id": "cdc2641f",
   "metadata": {},
   "outputs": [],
   "source": [
    "def test7(**kwargs):\n",
    "    return kwargs"
   ]
  },
  {
   "cell_type": "code",
   "execution_count": 30,
   "id": "dc9e5335",
   "metadata": {},
   "outputs": [
    {
     "data": {
      "text/plain": [
       "[('a', 76), ('b', 'sudhanshu'), ('c', True)]"
      ]
     },
     "execution_count": 30,
     "metadata": {},
     "output_type": "execute_result"
    }
   ],
   "source": [
    "list(test7(a=76,b='sudhanshu',c=True).items())"
   ]
  },
  {
   "cell_type": "code",
   "execution_count": 31,
   "id": "7d95ddd8",
   "metadata": {},
   "outputs": [],
   "source": [
    "def test9(*m,**n):\n",
    "    return n,m"
   ]
  },
  {
   "cell_type": "code",
   "execution_count": 32,
   "id": "c6078091",
   "metadata": {},
   "outputs": [
    {
     "data": {
      "text/plain": [
       "({'a': 89, 'b': 'fewhf'}, (1, 232, 32, 34))"
      ]
     },
     "execution_count": 32,
     "metadata": {},
     "output_type": "execute_result"
    }
   ],
   "source": [
    "test9(1,232,32,34,a=89,b='fewhf')"
   ]
  },
  {
   "cell_type": "code",
   "execution_count": 37,
   "id": "a66e34a4",
   "metadata": {},
   "outputs": [],
   "source": [
    "x=lambda a,b:a+b"
   ]
  },
  {
   "cell_type": "code",
   "execution_count": 38,
   "id": "7127e67a",
   "metadata": {},
   "outputs": [
    {
     "data": {
      "text/plain": [
       "10"
      ]
     },
     "execution_count": 38,
     "metadata": {},
     "output_type": "execute_result"
    }
   ],
   "source": [
    "x(1,9)"
   ]
  },
  {
   "cell_type": "code",
   "execution_count": 41,
   "id": "b3c33246",
   "metadata": {},
   "outputs": [
    {
     "data": {
      "text/plain": [
       "[0, 1, 4, 9, 16, 25, 36, 49, 64, 81]"
      ]
     },
     "execution_count": 41,
     "metadata": {},
     "output_type": "execute_result"
    }
   ],
   "source": [
    "[i*i for i in range(10)] # list comprehension"
   ]
  },
  {
   "cell_type": "code",
   "execution_count": 42,
   "id": "67de846b",
   "metadata": {},
   "outputs": [],
   "source": [
    "l=lambda *x:[i**2 for i in x]"
   ]
  },
  {
   "cell_type": "code",
   "execution_count": 43,
   "id": "4751d25f",
   "metadata": {},
   "outputs": [
    {
     "data": {
      "text/plain": [
       "[529, 455625, 1849, 7921]"
      ]
     },
     "execution_count": 43,
     "metadata": {},
     "output_type": "execute_result"
    }
   ],
   "source": [
    "l(23,675,43,89)"
   ]
  },
  {
   "cell_type": "code",
   "execution_count": 5,
   "id": "fe1ffbea",
   "metadata": {},
   "outputs": [],
   "source": [
    "def test14(**kwargs):\n",
    "    c=0\n",
    "    for x in kwargs.values():\n",
    "        if type(x)==str and x=='sudh':\n",
    "            c=c+1\n",
    "        elif type(x)==list:\n",
    "            for i in x:\n",
    "                if type(i)==str and i=='sudh':\n",
    "                    c=c+1\n",
    "    return c"
   ]
  },
  {
   "cell_type": "code",
   "execution_count": 6,
   "id": "e7a50531",
   "metadata": {},
   "outputs": [
    {
     "data": {
      "text/plain": [
       "2"
      ]
     },
     "execution_count": 6,
     "metadata": {},
     "output_type": "execute_result"
    }
   ],
   "source": [
    "test14(a='sudh',b=43,c=23,d=[2,3,4,'sudh'])"
   ]
  },
  {
   "cell_type": "code",
   "execution_count": 63,
   "id": "10e3a425",
   "metadata": {},
   "outputs": [],
   "source": [
    "def pri(*m):\n",
    "    l=[]\n",
    "    for i in m:\n",
    "        if type(i)==int:\n",
    "            l.append(str(i))\n",
    "        else:\n",
    "            l.append(i)\n",
    "    return ' '.join(l)"
   ]
  },
  {
   "cell_type": "code",
   "execution_count": 64,
   "id": "248fbb97",
   "metadata": {},
   "outputs": [
    {
     "data": {
      "text/plain": [
       "'6 8 gfsdgf'"
      ]
     },
     "execution_count": 64,
     "metadata": {},
     "output_type": "execute_result"
    }
   ],
   "source": [
    "pri(6,8,'gfsdgf')"
   ]
  },
  {
   "cell_type": "code",
   "execution_count": 38,
   "id": "bb3e2d77",
   "metadata": {},
   "outputs": [],
   "source": [
    "x=lambda *a:''.join(a)"
   ]
  },
  {
   "cell_type": "code",
   "execution_count": 41,
   "id": "6a55c8c4",
   "metadata": {},
   "outputs": [
    {
     "data": {
      "text/plain": [
       "'asdsadassudhanshu'"
      ]
     },
     "execution_count": 41,
     "metadata": {},
     "output_type": "execute_result"
    }
   ],
   "source": [
    "x('asd','sadas','sudhanshu')"
   ]
  },
  {
   "cell_type": "code",
   "execution_count": 48,
   "id": "ace0a15d",
   "metadata": {},
   "outputs": [],
   "source": [
    "y=lambda a:[i**2 for i in range(1,a+1)]"
   ]
  },
  {
   "cell_type": "code",
   "execution_count": 49,
   "id": "393ef455",
   "metadata": {},
   "outputs": [
    {
     "data": {
      "text/plain": [
       "[1,\n",
       " 4,\n",
       " 9,\n",
       " 16,\n",
       " 25,\n",
       " 36,\n",
       " 49,\n",
       " 64,\n",
       " 81,\n",
       " 100,\n",
       " 121,\n",
       " 144,\n",
       " 169,\n",
       " 196,\n",
       " 225,\n",
       " 256,\n",
       " 289,\n",
       " 324,\n",
       " 361,\n",
       " 400,\n",
       " 441,\n",
       " 484,\n",
       " 529,\n",
       " 576,\n",
       " 625,\n",
       " 676,\n",
       " 729,\n",
       " 784,\n",
       " 841,\n",
       " 900,\n",
       " 961,\n",
       " 1024,\n",
       " 1089,\n",
       " 1156,\n",
       " 1225,\n",
       " 1296,\n",
       " 1369,\n",
       " 1444,\n",
       " 1521,\n",
       " 1600,\n",
       " 1681,\n",
       " 1764,\n",
       " 1849,\n",
       " 1936,\n",
       " 2025,\n",
       " 2116,\n",
       " 2209,\n",
       " 2304,\n",
       " 2401,\n",
       " 2500,\n",
       " 2601,\n",
       " 2704,\n",
       " 2809,\n",
       " 2916,\n",
       " 3025,\n",
       " 3136,\n",
       " 3249,\n",
       " 3364,\n",
       " 3481,\n",
       " 3600,\n",
       " 3721,\n",
       " 3844,\n",
       " 3969,\n",
       " 4096,\n",
       " 4225,\n",
       " 4356,\n",
       " 4489,\n",
       " 4624,\n",
       " 4761,\n",
       " 4900,\n",
       " 5041,\n",
       " 5184,\n",
       " 5329,\n",
       " 5476,\n",
       " 5625,\n",
       " 5776,\n",
       " 5929,\n",
       " 6084,\n",
       " 6241,\n",
       " 6400,\n",
       " 6561,\n",
       " 6724,\n",
       " 6889,\n",
       " 7056,\n",
       " 7225,\n",
       " 7396,\n",
       " 7569,\n",
       " 7744,\n",
       " 7921,\n",
       " 8100,\n",
       " 8281,\n",
       " 8464,\n",
       " 8649,\n",
       " 8836,\n",
       " 9025,\n",
       " 9216,\n",
       " 9409,\n",
       " 9604,\n",
       " 9801,\n",
       " 10000]"
      ]
     },
     "execution_count": 49,
     "metadata": {},
     "output_type": "execute_result"
    }
   ],
   "source": [
    "y(100)"
   ]
  },
  {
   "cell_type": "code",
   "execution_count": null,
   "id": "051ddc8d",
   "metadata": {},
   "outputs": [],
   "source": []
  }
 ],
 "metadata": {
  "kernelspec": {
   "display_name": "Python 3 (ipykernel)",
   "language": "python",
   "name": "python3"
  },
  "language_info": {
   "codemirror_mode": {
    "name": "ipython",
    "version": 3
   },
   "file_extension": ".py",
   "mimetype": "text/x-python",
   "name": "python",
   "nbconvert_exporter": "python",
   "pygments_lexer": "ipython3",
   "version": "3.9.12"
  }
 },
 "nbformat": 4,
 "nbformat_minor": 5
}
