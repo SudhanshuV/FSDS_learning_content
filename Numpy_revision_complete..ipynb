{
 "cells": [
  {
   "cell_type": "code",
   "execution_count": 1,
   "id": "f0ec4d61",
   "metadata": {},
   "outputs": [],
   "source": [
    "import numpy as np"
   ]
  },
  {
   "cell_type": "code",
   "execution_count": 2,
   "id": "5aa86766",
   "metadata": {},
   "outputs": [],
   "source": [
    "l=[1,2,3,4,5,6]"
   ]
  },
  {
   "cell_type": "code",
   "execution_count": 3,
   "id": "225afd35",
   "metadata": {},
   "outputs": [
    {
     "data": {
      "text/plain": [
       "array([1, 2, 3, 4, 5, 6])"
      ]
     },
     "execution_count": 3,
     "metadata": {},
     "output_type": "execute_result"
    }
   ],
   "source": [
    "np.array(l)"
   ]
  },
  {
   "cell_type": "code",
   "execution_count": 14,
   "id": "6fe6929e",
   "metadata": {},
   "outputs": [],
   "source": [
    "l1=[4,5,6,7,'sudh',34.56,True]"
   ]
  },
  {
   "cell_type": "code",
   "execution_count": 15,
   "id": "ee73689d",
   "metadata": {},
   "outputs": [
    {
     "data": {
      "text/plain": [
       "array(['4', '5', '6', '7', 'sudh', '34.56', 'True'], dtype='<U32')"
      ]
     },
     "execution_count": 15,
     "metadata": {},
     "output_type": "execute_result"
    }
   ],
   "source": [
    "np.array(l1)"
   ]
  },
  {
   "cell_type": "code",
   "execution_count": 16,
   "id": "9eaa22b7",
   "metadata": {},
   "outputs": [
    {
     "data": {
      "text/plain": [
       "array([[1, 3, 4, 5],\n",
       "       [7, 6, 3, 2]])"
      ]
     },
     "execution_count": 16,
     "metadata": {},
     "output_type": "execute_result"
    }
   ],
   "source": [
    "np.array([[1,3,4,5],[7,6,3,2]])"
   ]
  },
  {
   "cell_type": "code",
   "execution_count": 21,
   "id": "8ccf7f6f",
   "metadata": {},
   "outputs": [],
   "source": [
    "a1=np.array([[[[[[[[[[[32,12,34,4],[3,432,5,44],[34,54,32,54]]]]]]]]]]])"
   ]
  },
  {
   "cell_type": "code",
   "execution_count": 22,
   "id": "f70c9247",
   "metadata": {},
   "outputs": [
    {
     "data": {
      "text/plain": [
       "array([[[[[[[[[[[ 32,  12,  34,   4],\n",
       "                [  3, 432,   5,  44],\n",
       "                [ 34,  54,  32,  54]]]]]]]]]]])"
      ]
     },
     "execution_count": 22,
     "metadata": {},
     "output_type": "execute_result"
    }
   ],
   "source": [
    "a1"
   ]
  },
  {
   "cell_type": "code",
   "execution_count": 23,
   "id": "4009fb99",
   "metadata": {},
   "outputs": [
    {
     "data": {
      "text/plain": [
       "(1, 1, 1, 1, 1, 1, 1, 1, 1, 3, 4)"
      ]
     },
     "execution_count": 23,
     "metadata": {},
     "output_type": "execute_result"
    }
   ],
   "source": [
    "a1.shape"
   ]
  },
  {
   "cell_type": "code",
   "execution_count": 26,
   "id": "e6c84668",
   "metadata": {
    "scrolled": true
   },
   "outputs": [
    {
     "data": {
      "text/plain": [
       "11"
      ]
     },
     "execution_count": 26,
     "metadata": {},
     "output_type": "execute_result"
    }
   ],
   "source": [
    "a1.ndim"
   ]
  },
  {
   "cell_type": "code",
   "execution_count": 27,
   "id": "ae705da6",
   "metadata": {},
   "outputs": [
    {
     "data": {
      "text/plain": [
       "12"
      ]
     },
     "execution_count": 27,
     "metadata": {},
     "output_type": "execute_result"
    }
   ],
   "source": [
    "a1.size"
   ]
  },
  {
   "cell_type": "code",
   "execution_count": 30,
   "id": "03ceb539",
   "metadata": {},
   "outputs": [
    {
     "data": {
      "text/plain": [
       "(2, 2, 4)"
      ]
     },
     "execution_count": 30,
     "metadata": {},
     "output_type": "execute_result"
    }
   ],
   "source": [
    "np.array([[[1,3,4,5],[7,6,3,2]],[[1,3,4,5],[7,6,3,2]]]).shape"
   ]
  },
  {
   "cell_type": "code",
   "execution_count": 35,
   "id": "537d2efa",
   "metadata": {},
   "outputs": [
    {
     "data": {
      "text/plain": [
       "array([[[22, 24, 27, 36],\n",
       "        [ 8, 31, 24, 18],\n",
       "        [48, 25, 29,  6]],\n",
       "\n",
       "       [[11, 24,  4, 22],\n",
       "        [21,  3, 46, 43],\n",
       "        [30, 19, 16,  4]]])"
      ]
     },
     "execution_count": 35,
     "metadata": {},
     "output_type": "execute_result"
    }
   ],
   "source": [
    "np.random.randint(2,50,(2,3,4))"
   ]
  },
  {
   "cell_type": "code",
   "execution_count": 40,
   "id": "49c6ef9e",
   "metadata": {},
   "outputs": [
    {
     "data": {
      "text/plain": [
       "array([[[0.85924684, 0.79694707],\n",
       "        [0.00674034, 0.60217378],\n",
       "        [0.02780994, 0.27109538]],\n",
       "\n",
       "       [[0.56689023, 0.38787011],\n",
       "        [0.10223233, 0.62259832],\n",
       "        [0.18010452, 0.22820263]]])"
      ]
     },
     "execution_count": 40,
     "metadata": {},
     "output_type": "execute_result"
    }
   ],
   "source": [
    "np.random.rand(2,3,2)"
   ]
  },
  {
   "cell_type": "code",
   "execution_count": 42,
   "id": "242d8771",
   "metadata": {},
   "outputs": [],
   "source": [
    "re=np.random.randn(2,3,2)"
   ]
  },
  {
   "cell_type": "code",
   "execution_count": 43,
   "id": "45d1b0a5",
   "metadata": {},
   "outputs": [
    {
     "data": {
      "text/plain": [
       "array([[[ 0.66890184,  0.29318779],\n",
       "        [ 0.44929895,  0.06175574],\n",
       "        [ 1.17133333, -0.2299318 ]],\n",
       "\n",
       "       [[-0.60450986, -1.13186661],\n",
       "        [ 0.11219452, -0.23632336],\n",
       "        [-1.39770159, -0.99976877]]])"
      ]
     },
     "execution_count": 43,
     "metadata": {},
     "output_type": "execute_result"
    }
   ],
   "source": [
    "re"
   ]
  },
  {
   "cell_type": "code",
   "execution_count": 44,
   "id": "05ae06ec",
   "metadata": {},
   "outputs": [
    {
     "data": {
      "text/plain": [
       "array([[[ 0.66890184,  0.29318779],\n",
       "        [ 0.44929895,  0.06175574]],\n",
       "\n",
       "       [[ 1.17133333, -0.2299318 ],\n",
       "        [-0.60450986, -1.13186661]],\n",
       "\n",
       "       [[ 0.11219452, -0.23632336],\n",
       "        [-1.39770159, -0.99976877]]])"
      ]
     },
     "execution_count": 44,
     "metadata": {},
     "output_type": "execute_result"
    }
   ],
   "source": [
    "re.reshape(3,2,2)"
   ]
  },
  {
   "cell_type": "code",
   "execution_count": 45,
   "id": "1f2ff99b",
   "metadata": {},
   "outputs": [
    {
     "data": {
      "text/plain": [
       "array([[[ 0.66890184,  0.29318779,  0.44929895,  0.06175574,\n",
       "          1.17133333, -0.2299318 ]],\n",
       "\n",
       "       [[-0.60450986, -1.13186661,  0.11219452, -0.23632336,\n",
       "         -1.39770159, -0.99976877]]])"
      ]
     },
     "execution_count": 45,
     "metadata": {},
     "output_type": "execute_result"
    }
   ],
   "source": [
    "re.reshape(2,1,6)"
   ]
  },
  {
   "cell_type": "code",
   "execution_count": 46,
   "id": "a00c3aea",
   "metadata": {},
   "outputs": [
    {
     "data": {
      "text/plain": [
       "array([[[ 0.66890184,  0.29318779],\n",
       "        [ 0.44929895,  0.06175574],\n",
       "        [ 1.17133333, -0.2299318 ]],\n",
       "\n",
       "       [[-0.60450986, -1.13186661],\n",
       "        [ 0.11219452, -0.23632336],\n",
       "        [-1.39770159, -0.99976877]]])"
      ]
     },
     "execution_count": 46,
     "metadata": {},
     "output_type": "execute_result"
    }
   ],
   "source": [
    "re"
   ]
  },
  {
   "cell_type": "code",
   "execution_count": 47,
   "id": "d47d301f",
   "metadata": {},
   "outputs": [
    {
     "data": {
      "text/plain": [
       "array([[ 0.66890184,  0.29318779,  0.44929895,  0.06175574,  1.17133333,\n",
       "        -0.2299318 ],\n",
       "       [-0.60450986, -1.13186661,  0.11219452, -0.23632336, -1.39770159,\n",
       "        -0.99976877]])"
      ]
     },
     "execution_count": 47,
     "metadata": {},
     "output_type": "execute_result"
    }
   ],
   "source": [
    "re.reshape(2,-1)"
   ]
  },
  {
   "cell_type": "code",
   "execution_count": 53,
   "id": "be4c1a41",
   "metadata": {},
   "outputs": [
    {
     "data": {
      "text/plain": [
       "array([[[ 0.66890184],\n",
       "        [ 0.29318779],\n",
       "        [ 0.44929895]],\n",
       "\n",
       "       [[ 0.06175574],\n",
       "        [ 1.17133333],\n",
       "        [-0.2299318 ]],\n",
       "\n",
       "       [[-0.60450986],\n",
       "        [-1.13186661],\n",
       "        [ 0.11219452]],\n",
       "\n",
       "       [[-0.23632336],\n",
       "        [-1.39770159],\n",
       "        [-0.99976877]]])"
      ]
     },
     "execution_count": 53,
     "metadata": {},
     "output_type": "execute_result"
    }
   ],
   "source": [
    "re.reshape(4,3,-1)"
   ]
  },
  {
   "cell_type": "code",
   "execution_count": 52,
   "id": "1568fa3f",
   "metadata": {},
   "outputs": [
    {
     "data": {
      "text/plain": [
       "array([[ 0.66890184,  0.29318779],\n",
       "       [ 0.44929895,  0.06175574],\n",
       "       [ 1.17133333, -0.2299318 ],\n",
       "       [-0.60450986, -1.13186661],\n",
       "       [ 0.11219452, -0.23632336],\n",
       "       [-1.39770159, -0.99976877]])"
      ]
     },
     "execution_count": 52,
     "metadata": {},
     "output_type": "execute_result"
    }
   ],
   "source": [
    "re.reshape(6,-1)"
   ]
  },
  {
   "cell_type": "code",
   "execution_count": 55,
   "id": "910e2869",
   "metadata": {},
   "outputs": [
    {
     "data": {
      "text/plain": [
       "array([[[-0.60450986, -1.13186661],\n",
       "        [ 0.11219452, -0.23632336],\n",
       "        [-1.39770159, -0.99976877]],\n",
       "\n",
       "       [[ 0.66890184,  0.29318779],\n",
       "        [ 0.44929895,  0.06175574],\n",
       "        [ 1.17133333, -0.2299318 ]]])"
      ]
     },
     "execution_count": 55,
     "metadata": {},
     "output_type": "execute_result"
    }
   ],
   "source": [
    "re[::-1]"
   ]
  },
  {
   "cell_type": "code",
   "execution_count": 61,
   "id": "bfdcaf32",
   "metadata": {},
   "outputs": [
    {
     "data": {
      "text/plain": [
       "array([[[-0.60450986, -1.13186661],\n",
       "        [ 0.11219452, -0.23632336],\n",
       "        [-1.39770159, -0.99976877]]])"
      ]
     },
     "execution_count": 61,
     "metadata": {},
     "output_type": "execute_result"
    }
   ],
   "source": [
    "re[0:][1:]"
   ]
  },
  {
   "cell_type": "code",
   "execution_count": 64,
   "id": "21a0aa48",
   "metadata": {},
   "outputs": [
    {
     "data": {
      "text/plain": [
       "array([[[ 0.44929895,  0.06175574],\n",
       "        [ 1.17133333, -0.2299318 ]],\n",
       "\n",
       "       [[ 0.11219452, -0.23632336],\n",
       "        [-1.39770159, -0.99976877]]])"
      ]
     },
     "execution_count": 64,
     "metadata": {},
     "output_type": "execute_result"
    }
   ],
   "source": [
    "re[:,1:]"
   ]
  },
  {
   "cell_type": "code",
   "execution_count": 65,
   "id": "03ae68c2",
   "metadata": {},
   "outputs": [],
   "source": [
    "a2=np.random.randint(2,40,(4,5))"
   ]
  },
  {
   "cell_type": "code",
   "execution_count": 66,
   "id": "bc871d77",
   "metadata": {},
   "outputs": [
    {
     "data": {
      "text/plain": [
       "array([[18, 37, 30, 10,  3],\n",
       "       [38, 34, 31,  9, 30],\n",
       "       [29, 13, 13, 14, 29],\n",
       "       [25,  7, 10,  4,  5]])"
      ]
     },
     "execution_count": 66,
     "metadata": {},
     "output_type": "execute_result"
    }
   ],
   "source": [
    "a2"
   ]
  },
  {
   "cell_type": "code",
   "execution_count": 72,
   "id": "ecab1f10",
   "metadata": {},
   "outputs": [
    {
     "data": {
      "text/plain": [
       "array([37, 30, 38, 34, 31, 30, 29, 29, 25])"
      ]
     },
     "execution_count": 72,
     "metadata": {},
     "output_type": "execute_result"
    }
   ],
   "source": [
    "a2[a2>20]"
   ]
  },
  {
   "cell_type": "code",
   "execution_count": 74,
   "id": "30e6ee9f",
   "metadata": {},
   "outputs": [],
   "source": [
    "a2[0,1]=78"
   ]
  },
  {
   "cell_type": "code",
   "execution_count": 75,
   "id": "ff2a3629",
   "metadata": {},
   "outputs": [
    {
     "data": {
      "text/plain": [
       "array([[18, 78, 30, 10,  3],\n",
       "       [38, 34, 31,  9, 30],\n",
       "       [29, 13, 13, 14, 29],\n",
       "       [25,  7, 10,  4,  5]])"
      ]
     },
     "execution_count": 75,
     "metadata": {},
     "output_type": "execute_result"
    }
   ],
   "source": [
    "a2"
   ]
  },
  {
   "cell_type": "code",
   "execution_count": 77,
   "id": "3656ec2c",
   "metadata": {},
   "outputs": [],
   "source": [
    "a4=np.random.randint(2,99,(3,3))"
   ]
  },
  {
   "cell_type": "code",
   "execution_count": 78,
   "id": "4d1802f8",
   "metadata": {},
   "outputs": [
    {
     "data": {
      "text/plain": [
       "array([[42, 23, 74],\n",
       "       [40, 59, 86],\n",
       "       [ 2, 95, 37]])"
      ]
     },
     "execution_count": 78,
     "metadata": {},
     "output_type": "execute_result"
    }
   ],
   "source": [
    "a3"
   ]
  },
  {
   "cell_type": "code",
   "execution_count": 79,
   "id": "d3b85eda",
   "metadata": {},
   "outputs": [
    {
     "data": {
      "text/plain": [
       "array([[98, 81, 51],\n",
       "       [10, 20,  5],\n",
       "       [15, 53,  6]])"
      ]
     },
     "execution_count": 79,
     "metadata": {},
     "output_type": "execute_result"
    }
   ],
   "source": [
    "a4"
   ]
  },
  {
   "cell_type": "code",
   "execution_count": 80,
   "id": "f14a31db",
   "metadata": {},
   "outputs": [
    {
     "data": {
      "text/plain": [
       "array([[4116, 1863, 3774],\n",
       "       [ 400, 1180,  430],\n",
       "       [  30, 5035,  222]])"
      ]
     },
     "execution_count": 80,
     "metadata": {},
     "output_type": "execute_result"
    }
   ],
   "source": [
    "a3*a4"
   ]
  },
  {
   "cell_type": "code",
   "execution_count": 82,
   "id": "44f2126f",
   "metadata": {},
   "outputs": [
    {
     "data": {
      "text/plain": [
       "array([[5456, 7784, 2701],\n",
       "       [5800, 8978, 2851],\n",
       "       [1701, 4023,  799]])"
      ]
     },
     "execution_count": 82,
     "metadata": {},
     "output_type": "execute_result"
    }
   ],
   "source": [
    "a3@a4"
   ]
  },
  {
   "cell_type": "code",
   "execution_count": 86,
   "id": "928976d8",
   "metadata": {},
   "outputs": [
    {
     "data": {
      "text/plain": [
       "array([[5456, 7784, 2701],\n",
       "       [5800, 8978, 2851],\n",
       "       [1701, 4023,  799]])"
      ]
     },
     "execution_count": 86,
     "metadata": {},
     "output_type": "execute_result"
    }
   ],
   "source": [
    "np.matmul(a3,a4)"
   ]
  },
  {
   "cell_type": "code",
   "execution_count": 87,
   "id": "40866870",
   "metadata": {},
   "outputs": [
    {
     "data": {
      "text/plain": [
       "array([[142, 123, 174],\n",
       "       [140, 159, 186],\n",
       "       [102, 195, 137]])"
      ]
     },
     "execution_count": 87,
     "metadata": {},
     "output_type": "execute_result"
    }
   ],
   "source": [
    "np.add(a3,100)"
   ]
  },
  {
   "cell_type": "code",
   "execution_count": 88,
   "id": "98bd3765",
   "metadata": {},
   "outputs": [
    {
     "data": {
      "text/plain": [
       "array([[140, 104, 125],\n",
       "       [ 50,  79,  91],\n",
       "       [ 17, 148,  43]])"
      ]
     },
     "execution_count": 88,
     "metadata": {},
     "output_type": "execute_result"
    }
   ],
   "source": [
    "np.add(a3,a4)"
   ]
  },
  {
   "cell_type": "code",
   "execution_count": 90,
   "id": "79db9d36",
   "metadata": {},
   "outputs": [
    {
     "name": "stderr",
     "output_type": "stream",
     "text": [
      "C:\\Users\\Sudha\\AppData\\Local\\Temp\\ipykernel_10272\\3837936085.py:1: RuntimeWarning: divide by zero encountered in true_divide\n",
      "  np.divide(a3,0)\n"
     ]
    },
    {
     "data": {
      "text/plain": [
       "array([[inf, inf, inf],\n",
       "       [inf, inf, inf],\n",
       "       [inf, inf, inf]])"
      ]
     },
     "execution_count": 90,
     "metadata": {},
     "output_type": "execute_result"
    }
   ],
   "source": [
    "np.divide(a3,0)"
   ]
  },
  {
   "cell_type": "code",
   "execution_count": 92,
   "id": "4ccc0d24",
   "metadata": {},
   "outputs": [
    {
     "data": {
      "text/plain": [
       "array([[-56, -58,  23],\n",
       "       [ 30,  39,  81],\n",
       "       [-13,  42,  31]])"
      ]
     },
     "execution_count": 92,
     "metadata": {},
     "output_type": "execute_result"
    }
   ],
   "source": [
    "np.subtract(a3,a4)"
   ]
  },
  {
   "cell_type": "code",
   "execution_count": 96,
   "id": "9c6ff241",
   "metadata": {},
   "outputs": [
    {
     "data": {
      "text/plain": [
       "array([[1764,  529, 5476],\n",
       "       [1600, 3481, 7396],\n",
       "       [   4, 9025, 1369]], dtype=int32)"
      ]
     },
     "execution_count": 96,
     "metadata": {},
     "output_type": "execute_result"
    }
   ],
   "source": [
    "a3**2"
   ]
  },
  {
   "cell_type": "code",
   "execution_count": 99,
   "id": "11644d48",
   "metadata": {},
   "outputs": [
    {
     "data": {
      "text/plain": [
       "array([[0., 0., 0., 0.],\n",
       "       [0., 0., 0., 0.],\n",
       "       [0., 0., 0., 0.],\n",
       "       [0., 0., 0., 0.]])"
      ]
     },
     "execution_count": 99,
     "metadata": {},
     "output_type": "execute_result"
    }
   ],
   "source": [
    "np.zeros((4,4))"
   ]
  },
  {
   "cell_type": "code",
   "execution_count": 100,
   "id": "b1f869e8",
   "metadata": {},
   "outputs": [
    {
     "data": {
      "text/plain": [
       "array([[1., 1., 1., 1., 1.],\n",
       "       [1., 1., 1., 1., 1.],\n",
       "       [1., 1., 1., 1., 1.],\n",
       "       [1., 1., 1., 1., 1.]])"
      ]
     },
     "execution_count": 100,
     "metadata": {},
     "output_type": "execute_result"
    }
   ],
   "source": [
    "np.ones((4,5))"
   ]
  },
  {
   "cell_type": "code",
   "execution_count": 105,
   "id": "7d5a3f46",
   "metadata": {},
   "outputs": [
    {
     "data": {
      "text/plain": [
       "array([42, 59, 37])"
      ]
     },
     "execution_count": 105,
     "metadata": {},
     "output_type": "execute_result"
    }
   ],
   "source": [
    "np.diagonal(a3)"
   ]
  },
  {
   "cell_type": "code",
   "execution_count": 107,
   "id": "64fc2582",
   "metadata": {},
   "outputs": [
    {
     "data": {
      "text/plain": [
       "array([[18, 78, 30, 10,  3],\n",
       "       [38, 34, 31,  9, 30],\n",
       "       [29, 13, 13, 14, 29],\n",
       "       [25,  7, 10,  4,  5]])"
      ]
     },
     "execution_count": 107,
     "metadata": {},
     "output_type": "execute_result"
    }
   ],
   "source": [
    "a2"
   ]
  },
  {
   "cell_type": "code",
   "execution_count": 108,
   "id": "56521ddf",
   "metadata": {},
   "outputs": [
    {
     "data": {
      "text/plain": [
       "array([[19, 80, 33, 14,  8],\n",
       "       [39, 36, 34, 13, 35],\n",
       "       [30, 15, 16, 18, 34],\n",
       "       [26,  9, 13,  8, 10]])"
      ]
     },
     "execution_count": 108,
     "metadata": {},
     "output_type": "execute_result"
    }
   ],
   "source": [
    "a2 + np.array([1,2,3,4,5])"
   ]
  },
  {
   "cell_type": "code",
   "execution_count": 113,
   "id": "2ac51dd1",
   "metadata": {},
   "outputs": [
    {
     "data": {
      "text/plain": [
       "array([[19, 79, 31, 11,  4],\n",
       "       [40, 36, 33, 11, 32],\n",
       "       [32, 16, 16, 17, 32],\n",
       "       [29, 11, 14,  8,  9]])"
      ]
     },
     "execution_count": 113,
     "metadata": {},
     "output_type": "execute_result"
    }
   ],
   "source": [
    "(a2.T + np.array([1,2,3,4])).T"
   ]
  },
  {
   "cell_type": "code",
   "execution_count": 114,
   "id": "7b8df89f",
   "metadata": {},
   "outputs": [
    {
     "data": {
      "text/plain": [
       "array([[19, 79, 31, 11,  4],\n",
       "       [40, 36, 33, 11, 32],\n",
       "       [32, 16, 16, 17, 32],\n",
       "       [29, 11, 14,  8,  9]])"
      ]
     },
     "execution_count": 114,
     "metadata": {},
     "output_type": "execute_result"
    }
   ],
   "source": [
    "a2 + np.array([[1,2,3,4]]).T"
   ]
  },
  {
   "cell_type": "code",
   "execution_count": 116,
   "id": "5d98595c",
   "metadata": {},
   "outputs": [
    {
     "data": {
      "text/plain": [
       "array([[6.4807407 , 4.79583152, 8.60232527],\n",
       "       [6.32455532, 7.68114575, 9.2736185 ],\n",
       "       [1.41421356, 9.74679434, 6.08276253]])"
      ]
     },
     "execution_count": 116,
     "metadata": {},
     "output_type": "execute_result"
    }
   ],
   "source": [
    "np.sqrt(a3)"
   ]
  },
  {
   "cell_type": "code",
   "execution_count": 117,
   "id": "f4275827",
   "metadata": {},
   "outputs": [
    {
     "data": {
      "text/plain": [
       "array([[1.73927494e+18, 9.74480345e+09, 1.37338298e+32],\n",
       "       [2.35385267e+17, 4.20121040e+25, 2.23524660e+37],\n",
       "       [7.38905610e+00, 1.81123908e+41, 1.17191424e+16]])"
      ]
     },
     "execution_count": 117,
     "metadata": {},
     "output_type": "execute_result"
    }
   ],
   "source": [
    "np.exp(a3)"
   ]
  },
  {
   "cell_type": "code",
   "execution_count": 118,
   "id": "55c4017d",
   "metadata": {},
   "outputs": [
    {
     "data": {
      "text/plain": [
       "array([[1.62324929, 1.36172784, 1.86923172],\n",
       "       [1.60205999, 1.77085201, 1.93449845],\n",
       "       [0.30103   , 1.97772361, 1.56820172]])"
      ]
     },
     "execution_count": 118,
     "metadata": {},
     "output_type": "execute_result"
    }
   ],
   "source": [
    "np.log10(a3)"
   ]
  },
  {
   "cell_type": "code",
   "execution_count": 119,
   "id": "17959774",
   "metadata": {},
   "outputs": [
    {
     "data": {
      "text/plain": [
       "array([[5.39231742, 4.52356196, 6.20945337],\n",
       "       [5.32192809, 5.88264305, 6.42626475],\n",
       "       [1.        , 6.56985561, 5.20945337]])"
      ]
     },
     "execution_count": 119,
     "metadata": {},
     "output_type": "execute_result"
    }
   ],
   "source": [
    "np.log2(a3)"
   ]
  },
  {
   "cell_type": "code",
   "execution_count": 120,
   "id": "fe50d5f1",
   "metadata": {},
   "outputs": [
    {
     "data": {
      "text/plain": [
       "array([[3.73766962, 3.13549422, 4.30406509],\n",
       "       [3.68887945, 4.07753744, 4.4543473 ],\n",
       "       [0.69314718, 4.55387689, 3.61091791]])"
      ]
     },
     "execution_count": 120,
     "metadata": {},
     "output_type": "execute_result"
    }
   ],
   "source": [
    "np.log(a3)"
   ]
  },
  {
   "cell_type": "code",
   "execution_count": 127,
   "id": "8fd82447",
   "metadata": {},
   "outputs": [
    {
     "data": {
      "text/plain": [
       "array([10. , 12.5, 15. , 17.5, 20. , 22.5, 25. , 27.5])"
      ]
     },
     "execution_count": 127,
     "metadata": {},
     "output_type": "execute_result"
    }
   ],
   "source": [
    "np.arange(10,30,2.5)"
   ]
  },
  {
   "cell_type": "code",
   "execution_count": 134,
   "id": "284883a8",
   "metadata": {},
   "outputs": [
    {
     "data": {
      "text/plain": [
       "(array([1.        , 1.08163265, 1.16326531, 1.24489796, 1.32653061,\n",
       "        1.40816327, 1.48979592, 1.57142857, 1.65306122, 1.73469388,\n",
       "        1.81632653, 1.89795918, 1.97959184, 2.06122449, 2.14285714,\n",
       "        2.2244898 , 2.30612245, 2.3877551 , 2.46938776, 2.55102041,\n",
       "        2.63265306, 2.71428571, 2.79591837, 2.87755102, 2.95918367,\n",
       "        3.04081633, 3.12244898, 3.20408163, 3.28571429, 3.36734694,\n",
       "        3.44897959, 3.53061224, 3.6122449 , 3.69387755, 3.7755102 ,\n",
       "        3.85714286, 3.93877551, 4.02040816, 4.10204082, 4.18367347,\n",
       "        4.26530612, 4.34693878, 4.42857143, 4.51020408, 4.59183673,\n",
       "        4.67346939, 4.75510204, 4.83673469, 4.91836735, 5.        ]),\n",
       " 0.08163265306122448)"
      ]
     },
     "execution_count": 134,
     "metadata": {},
     "output_type": "execute_result"
    }
   ],
   "source": [
    "np.linspace(1,5,num=50,retstep=True)"
   ]
  },
  {
   "cell_type": "code",
   "execution_count": 136,
   "id": "1247bbb0",
   "metadata": {},
   "outputs": [
    {
     "data": {
      "text/plain": [
       "array([1.00000000e+01, 2.15443469e+02, 4.64158883e+03, 1.00000000e+05])"
      ]
     },
     "execution_count": 136,
     "metadata": {},
     "output_type": "execute_result"
    }
   ],
   "source": [
    "np.logspace(1,5,num=4,base=10)"
   ]
  },
  {
   "cell_type": "code",
   "execution_count": 137,
   "id": "af139fa1",
   "metadata": {},
   "outputs": [
    {
     "data": {
      "text/plain": [
       "array([[1., 0., 0., 0.],\n",
       "       [0., 1., 0., 0.],\n",
       "       [0., 0., 1., 0.],\n",
       "       [0., 0., 0., 1.]])"
      ]
     },
     "execution_count": 137,
     "metadata": {},
     "output_type": "execute_result"
    }
   ],
   "source": [
    "np.eye(4)"
   ]
  }
 ],
 "metadata": {
  "kernelspec": {
   "display_name": "Python 3 (ipykernel)",
   "language": "python",
   "name": "python3"
  },
  "language_info": {
   "codemirror_mode": {
    "name": "ipython",
    "version": 3
   },
   "file_extension": ".py",
   "mimetype": "text/x-python",
   "name": "python",
   "nbconvert_exporter": "python",
   "pygments_lexer": "ipython3",
   "version": "3.9.12"
  }
 },
 "nbformat": 4,
 "nbformat_minor": 5
}
